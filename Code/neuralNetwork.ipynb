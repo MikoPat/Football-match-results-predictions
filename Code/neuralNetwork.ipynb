{
  "nbformat": 4,
  "nbformat_minor": 0,
  "metadata": {
    "colab": {
      "provenance": []
    },
    "kernelspec": {
      "name": "python3",
      "display_name": "Python 3"
    },
    "language_info": {
      "name": "python"
    }
  },
  "cells": [
    {
      "cell_type": "code",
      "source": [
        "import tensorflow as tf\n",
        "from tensorflow.keras.models import Sequential\n",
        "from tensorflow.keras.layers import Dense\n",
        "from sklearn.model_selection import train_test_split\n",
        "from sklearn.preprocessing import StandardScaler\n",
        "from sklearn.preprocessing import MinMaxScaler\n",
        "from sklearn.metrics import r2_score, mean_squared_error, mean_absolute_error\n",
        "import pandas as pd\n",
        "from keras.models import Sequential\n",
        "from keras.layers import Dense, Conv1D, MaxPooling1D, Flatten, Dropout\n",
        "from keras.utils import to_categorical\n",
        "import numpy as np\n",
        "from tensorflow.keras.models import Sequential\n",
        "from tensorflow.keras.layers import Dense, Dropout, BatchNormalization\n",
        "from tensorflow.keras.utils import to_categorical\n",
        "from tensorflow.keras.callbacks import EarlyStopping\n",
        "from keras.optimizers import Adam"
      ],
      "metadata": {
        "id": "GjnAe2Bxj_U1"
      },
      "execution_count": null,
      "outputs": []
    },
    {
      "cell_type": "code",
      "execution_count": null,
      "metadata": {
        "id": "chhpi0uJibqx"
      },
      "outputs": [],
      "source": [
        "from google.colab import drive\n",
        "drive.mount('/content/drive')"
      ]
    },
    {
      "cell_type": "code",
      "source": [
        "path = \"/content/drive/MyDrive/Football/\""
      ],
      "metadata": {
        "id": "aYUtCRJWjeOT"
      },
      "execution_count": null,
      "outputs": []
    },
    {
      "cell_type": "code",
      "source": [
        "# Wczytanie danych z pliku CSV\n",
        "data = pd.read_csv(path +'fianl_data_for_neural_network_train_3.csv', sep=',')"
      ],
      "metadata": {
        "id": "IFeN_h2hj9XB"
      },
      "execution_count": null,
      "outputs": []
    },
    {
      "cell_type": "code",
      "source": [
        "data"
      ],
      "metadata": {
        "id": "lcC3rLnV_cNW"
      },
      "execution_count": null,
      "outputs": []
    },
    {
      "cell_type": "code",
      "source": [
        "data = data.drop(columns=['game_date', 'home_team', 'away_team'])"
      ],
      "metadata": {
        "id": "wLdvIV-TAaML"
      },
      "execution_count": null,
      "outputs": []
    },
    {
      "cell_type": "code",
      "source": [
        "# data = data[[\n",
        "# 'home_team_last_5_search_team_summary_xg',\n",
        "# 'home_team_last_5_search_team_summary_gca',\n",
        "# 'home_team_last_5_search_team_passes_passes_into_final_third',\n",
        "# 'home_team_last_5_search_team_defensive_blocked_shots',\n",
        "# 'home_team_last_5_opponent_team_summary_goals',\n",
        "# 'home_team_last_5_opponent_team_summary_xg',\n",
        "# 'home_team_last_5_opponent_team_defensive_blocked_shots',\n",
        "# 'home_team_last_5_result',\n",
        "# 'away_team_last_5_search_team_summary_xg',\n",
        "# 'away_team_last_5_search_team_summary_gca',\n",
        "# 'away_team_last_5_search_team_passes_passes_into_final_third',\n",
        "# 'away_team_last_5_search_team_defensive_blocked_shots',\n",
        "# 'away_team_last_5_opponent_team_summary_goals',\n",
        "# 'away_team_last_5_opponent_team_summary_xg',\n",
        "# 'away_team_last_5_opponent_team_defensive_blocked_shots',\n",
        "# 'away_team_last_5_result',\n",
        "# 'home_team_elo',\n",
        "# 'away_team_elo',\n",
        "# 'result'\n",
        "# ]]"
      ],
      "metadata": {
        "id": "9-u6Vas2M-82"
      },
      "execution_count": null,
      "outputs": []
    },
    {
      "cell_type": "code",
      "source": [
        "# zmiana w result z 3 na 2\n",
        "\n",
        "data['result'] = data['result'].replace(3.0, 2.0)"
      ],
      "metadata": {
        "id": "PK4T20pP-eic"
      },
      "execution_count": null,
      "outputs": []
    },
    {
      "cell_type": "code",
      "source": [
        "# Podział danych na funkcje (X) i etykiety (y)\n",
        "X = data.drop('result', axis=1)\n",
        "y = data['result']\n",
        "\n",
        "# Podział danych na zbiory treningowy i testowy\n",
        "X_train, X_test, y_train, y_test = train_test_split(X, y, test_size=0.2, random_state=42)\n",
        "\n",
        "# Normalizacja danych za pomocą StandardScaler\n",
        "scaler = StandardScaler()\n",
        "min_max_scaler = MinMaxScaler()\n",
        "X_train_normalized = scaler.fit_transform(X_train)\n",
        "X_test_normalized = scaler.transform(X_test)\n"
      ],
      "metadata": {
        "id": "QXAegKe9kP-Q"
      },
      "execution_count": null,
      "outputs": []
    },
    {
      "cell_type": "code",
      "source": [
        "# One-hot encoding dla etykiet\n",
        "num_classes = 3\n",
        "y_train_categorical = to_categorical(y_train, num_classes=num_classes)\n",
        "y_test_categorical = to_categorical(y_test, num_classes=num_classes)\n",
        "\n",
        "model = Sequential()\n",
        "\n",
        "\n",
        "# Add Dense layers with Batch Normalization and Dropout\n",
        "model.add(Dense(18, input_shape=(X_train_normalized.shape[1],), activation='relu'))\n",
        "model.add(Dense(256, activation='relu'))\n",
        "model.add(Dense(512, activation='relu'))\n",
        "model.add(BatchNormalization())\n",
        "model.add(Dropout(0.5))\n",
        "model.add(Dense(1024, activation='relu'))\n",
        "model.add(Dense(2048, activation='relu'))\n",
        "model.add(Dense(1024, activation='relu'))\n",
        "model.add(Dense(2048, activation='relu'))\n",
        "model.add(Dense(1024, activation='relu'))\n",
        "model.add(BatchNormalization())\n",
        "model.add(Dropout(0.3))\n",
        "model.add(Dense(256, activation='relu'))\n",
        "model.add(Dense(64, activation='relu'))\n",
        "model.add(Dense(16, activation='relu'))\n",
        "model.add(Dense(num_classes, activation='softmax'))\n",
        "\n",
        "#model.compile(optimizer='adam',loss='categorical_crossentropy',metrics=['accuracy'])\n",
        "\n",
        "\n",
        "optimizer = Adam(learning_rate=0.001)\n",
        "model.compile(loss='categorical_crossentropy', optimizer=optimizer, metrics=['accuracy'])\n",
        "\n",
        "model.summary()\n",
        "\n",
        "# Add EarlyStopping\n",
        "early_stopping = EarlyStopping(monitor='val_loss', patience=10, restore_best_weights=True)\n",
        "\n",
        "# Train the model\n",
        "model.fit(X_train_normalized, y_train_categorical,\n",
        "          epochs=150,\n",
        "          batch_size=128,\n",
        "          validation_split=0.2,  # Use a validation split\n",
        "          callbacks=[early_stopping],  # Add early stopping callback\n",
        "          verbose=1)\n",
        "\n",
        "# Evaluate the model on the test set\n",
        "score = model.evaluate(X_test_normalized, y_test_categorical)\n",
        "print('Test loss:', score[0])\n",
        "print('Test accuracy:', score[1])"
      ],
      "metadata": {
        "id": "Zv16InHld7po"
      },
      "execution_count": null,
      "outputs": []
    }
  ]
}