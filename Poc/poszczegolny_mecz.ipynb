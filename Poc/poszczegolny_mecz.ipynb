{
 "cells": [
  {
   "cell_type": "code",
   "execution_count": null,
   "metadata": {},
   "outputs": [],
   "source": [
    "\n",
    "\n",
    "https://fbref.com/en/matches/3a6836b4/Burnley-Manchester-City-August-11-2023-Premier-League\n",
    "\n",
    "summary: //*[@id=\"stats_943e8050_summary\"]/tbody\n",
    "\n",
    "passing: //*[@id=\"stats_943e8050_passing\"]/tbody\n"
   ]
  },
  {
   "cell_type": "code",
   "execution_count": 53,
   "metadata": {},
   "outputs": [
    {
     "name": "stderr",
     "output_type": "stream",
     "text": [
      "/var/folders/_h/ljwht4gd7lb99rm1hm78h7_00000gn/T/ipykernel_39762/231521904.py:8: DeprecationWarning: executable_path has been deprecated, please pass in a Service object\n",
      "  driver = webdriver.Chrome(executable_path='/Users/mikolajpaterka/local/bin/chromedriver')\n"
     ]
    },
    {
     "data": {
      "text/plain": [
       "True"
      ]
     },
     "execution_count": 53,
     "metadata": {},
     "output_type": "execute_result"
    }
   ],
   "source": [
    "from selenium import webdriver\n",
    "from selenium.webdriver.chrome.service import Service\n",
    "from selenium.webdriver.chrome.webdriver import WebDriver\n",
    "from webdriver_manager.chrome import ChromeDriverManager\n",
    "from selenium.webdriver.common.by import By\n",
    "from selenium.webdriver.support.ui import WebDriverWait\n",
    "\n",
    "driver = webdriver.Chrome(executable_path='/Users/mikolajpaterka/local/bin/chromedriver')\n",
    "\n",
    "driver.get(\"https://fbref.com/en/matches/3a6836b4/Burnley-Manchester-City-August-11-2023-Premier-League\")\n",
    "\n",
    "def acceptButtonClicked(driver: WebDriver):\n",
    "  try:\n",
    "    #driver.switch_to.frame('sp_message_iframe_575846')\n",
    "    accept = driver.find_element(by=By.XPATH, value='//*[@id=\"qc-cmp2-ui\"]/div[2]/div/button[2]')\n",
    "    accept.click()\n",
    "    driver.switch_to.default_content()\n",
    "    return True\n",
    "  except:\n",
    "    return False\n",
    "\n",
    "WebDriverWait(driver, timeout=10).until(acceptButtonClicked)"
   ]
  },
  {
   "cell_type": "code",
   "execution_count": 46,
   "metadata": {},
   "outputs": [],
   "source": [
    "import pandas as pd "
   ]
  },
  {
   "cell_type": "code",
   "execution_count": 18,
   "metadata": {},
   "outputs": [],
   "source": [
    "table_summary = driver.find_element(by=By.XPATH, value='//*[@id=\"stats_943e8050_summary\"]/tfoot')  # Replace \"table_id\" with the actual ID of the table"
   ]
  },
  {
   "cell_type": "code",
   "execution_count": 19,
   "metadata": {},
   "outputs": [
    {
     "name": "stdout",
     "output_type": "stream",
     "text": [
      "['', '', '', '', '989', '0', '0', '0', '0', '6', '1', '0', '1', '496', '12', '7', '12', '0.3', '0.3', '0.3', '10', '0', '313', '395', '79.2', '18', '225', '10', '15', '3']\n"
     ]
    }
   ],
   "source": [
    "table_summary_data = []\n",
    "\n",
    "for row in table_summary.find_elements(By.TAG_NAME, \"tr\"):\n",
    "    row_data = []\n",
    "    for cell in row.find_elements(By.TAG_NAME, \"td\"):\n",
    "\n",
    "        row_data.append(cell.text)\n",
    "\n",
    "    table_summary_data.append(row_data)\n",
    "\n",
    "\n",
    "for row in table_summary_data:\n",
    "    print(row)"
   ]
  },
  {
   "cell_type": "code",
   "execution_count": 20,
   "metadata": {},
   "outputs": [],
   "source": [
    "table_summary_head = driver.find_element(by=By.XPATH, value='//*[@id=\"stats_943e8050_summary\"]/thead') "
   ]
  },
  {
   "cell_type": "code",
   "execution_count": 22,
   "metadata": {},
   "outputs": [
    {
     "name": "stdout",
     "output_type": "stream",
     "text": [
      "['', 'Performance', 'Expected', 'SCA', 'Passes', 'Carries', 'Take-Ons']\n",
      "['Player', '#', 'Nation', 'Pos', 'Age', 'Min', 'Gls', 'Ast', 'PK', 'PKatt', 'Sh', 'SoT', 'CrdY', 'CrdR', 'Touches', 'Tkl', 'Int', 'Blocks', 'xG', 'npxG', 'xAG', 'SCA', 'GCA', 'Cmp', 'Att', 'Cmp%', 'PrgP', 'Carries', 'PrgC', 'Att', 'Succ']\n"
     ]
    }
   ],
   "source": [
    "table_summary_head_data = []\n",
    "\n",
    "for row in table_summary_head.find_elements(By.TAG_NAME, \"tr\"):\n",
    "    row_data = []\n",
    "    for cell in row.find_elements(By.TAG_NAME, \"th\"):\n",
    "\n",
    "        row_data.append(cell.text)\n",
    "\n",
    "    table_summary_head_data.append(row_data)\n",
    "\n",
    "\n",
    "for row in table_summary_head_data:\n",
    "    print(row)"
   ]
  },
  {
   "cell_type": "code",
   "execution_count": 25,
   "metadata": {},
   "outputs": [],
   "source": [
    "\n",
    "summary_headlines = ['#', 'Nation', 'Pos', 'Age', 'Min', 'Performance_Gls', 'Performance_Ast', 'Performance_PK', 'Performance_PKatt', 'Performance_Sh', 'Performance_SoT', 'Performance_CrdY', 'Performance_CrdR', 'Performance_Touches', 'Performance_Tkl', 'Performance_Int', 'Performance_Blocks', 'Expected_xG', 'Expected_npxG', 'Expected_xAG', 'SCA_SCA', 'SCA_GCA', 'Passes_Cmp', 'Passes_Att', 'Passes_Cmp%', 'Passes_PrgP', 'Carries_Carries', 'Carries_PrgC', 'Take_Ons_Att', 'Take_Ons_Succ']"
   ]
  },
  {
   "cell_type": "code",
   "execution_count": 26,
   "metadata": {},
   "outputs": [],
   "source": [
    "df_summary = pd.DataFrame(table_summary_data, columns = summary_headlines)"
   ]
  },
  {
   "cell_type": "code",
   "execution_count": 27,
   "metadata": {},
   "outputs": [
    {
     "data": {
      "text/html": [
       "<div>\n",
       "<style scoped>\n",
       "    .dataframe tbody tr th:only-of-type {\n",
       "        vertical-align: middle;\n",
       "    }\n",
       "\n",
       "    .dataframe tbody tr th {\n",
       "        vertical-align: top;\n",
       "    }\n",
       "\n",
       "    .dataframe thead th {\n",
       "        text-align: right;\n",
       "    }\n",
       "</style>\n",
       "<table border=\"1\" class=\"dataframe\">\n",
       "  <thead>\n",
       "    <tr style=\"text-align: right;\">\n",
       "      <th></th>\n",
       "      <th>#</th>\n",
       "      <th>Nation</th>\n",
       "      <th>Pos</th>\n",
       "      <th>Age</th>\n",
       "      <th>Min</th>\n",
       "      <th>Performance_Gls</th>\n",
       "      <th>Performance_Ast</th>\n",
       "      <th>Performance_PK</th>\n",
       "      <th>Performance_PKatt</th>\n",
       "      <th>Performance_Sh</th>\n",
       "      <th>...</th>\n",
       "      <th>SCA_SCA</th>\n",
       "      <th>SCA_GCA</th>\n",
       "      <th>Passes_Cmp</th>\n",
       "      <th>Passes_Att</th>\n",
       "      <th>Passes_Cmp%</th>\n",
       "      <th>Passes_PrgP</th>\n",
       "      <th>Carries_Carries</th>\n",
       "      <th>Carries_PrgC</th>\n",
       "      <th>Take_Ons_Att</th>\n",
       "      <th>Take_Ons_Succ</th>\n",
       "    </tr>\n",
       "  </thead>\n",
       "  <tbody>\n",
       "    <tr>\n",
       "      <th>0</th>\n",
       "      <td></td>\n",
       "      <td></td>\n",
       "      <td></td>\n",
       "      <td></td>\n",
       "      <td>989</td>\n",
       "      <td>0</td>\n",
       "      <td>0</td>\n",
       "      <td>0</td>\n",
       "      <td>0</td>\n",
       "      <td>6</td>\n",
       "      <td>...</td>\n",
       "      <td>10</td>\n",
       "      <td>0</td>\n",
       "      <td>313</td>\n",
       "      <td>395</td>\n",
       "      <td>79.2</td>\n",
       "      <td>18</td>\n",
       "      <td>225</td>\n",
       "      <td>10</td>\n",
       "      <td>15</td>\n",
       "      <td>3</td>\n",
       "    </tr>\n",
       "  </tbody>\n",
       "</table>\n",
       "<p>1 rows × 30 columns</p>\n",
       "</div>"
      ],
      "text/plain": [
       "  # Nation Pos Age  Min Performance_Gls Performance_Ast Performance_PK  \\\n",
       "0                   989               0               0              0   \n",
       "\n",
       "  Performance_PKatt Performance_Sh  ... SCA_SCA SCA_GCA Passes_Cmp Passes_Att  \\\n",
       "0                 0              6  ...      10       0        313        395   \n",
       "\n",
       "  Passes_Cmp% Passes_PrgP Carries_Carries Carries_PrgC Take_Ons_Att  \\\n",
       "0        79.2          18             225           10           15   \n",
       "\n",
       "  Take_Ons_Succ  \n",
       "0             3  \n",
       "\n",
       "[1 rows x 30 columns]"
      ]
     },
     "execution_count": 27,
     "metadata": {},
     "output_type": "execute_result"
    }
   ],
   "source": [
    "df_summary"
   ]
  },
  {
   "cell_type": "markdown",
   "metadata": {},
   "source": [
    "### passing"
   ]
  },
  {
   "cell_type": "markdown",
   "metadata": {},
   "source": [
    "##### nazwy poszczególnych tabel\n",
    "\n",
    "summary\n",
    "\n",
    "passing\n",
    "\n",
    "passing_types\n",
    "\n",
    "defense\n",
    "\n",
    "possession\n",
    "\n",
    "misc\n",
    "\n",
    "\n",
    "\n"
   ]
  },
  {
   "cell_type": "code",
   "execution_count": 55,
   "metadata": {},
   "outputs": [
    {
     "name": "stdout",
     "output_type": "stream",
     "text": [
      "['', '', '', '', '', '', '', '', '', '', '', '', '', '', '', '', '', '', '', '', '']\n"
     ]
    }
   ],
   "source": [
    "table_summary = driver.find_element(by=By.XPATH, value='//*[@id=\"stats_943e8050_misc\"]/tfoot')  # Replace \"table_id\" with the actual ID of the table\n",
    "\n",
    "\n",
    "table_summary_data = []\n",
    "\n",
    "for row in table_summary.find_elements(By.TAG_NAME, \"tr\"):\n",
    "    row_data = []\n",
    "    for cell in row.find_elements(By.TAG_NAME, \"td\"):\n",
    "\n",
    "        row_data.append(cell.text)\n",
    "\n",
    "    table_summary_data.append(row_data)\n",
    "\n",
    "\n",
    "for row in table_summary_data:\n",
    "    print(row)"
   ]
  },
  {
   "cell_type": "code",
   "execution_count": 52,
   "metadata": {},
   "outputs": [
    {
     "name": "stdout",
     "output_type": "stream",
     "text": [
      "['', 'Performance', 'Aerial Duels']\n",
      "['Player', '#', 'Nation', 'Pos', 'Age', 'Min', 'CrdY', 'CrdR', '2CrdY', 'Fls', 'Fld', 'Off', 'Crs', 'Int', 'TklW', 'PKwon', 'PKcon', 'OG', 'Recov', 'Won', 'Lost', 'Won%']\n"
     ]
    }
   ],
   "source": [
    "table_summary_head = driver.find_element(by=By.XPATH, value='//*[@id=\"stats_943e8050_misc\"]/thead') \n",
    "\n",
    "\n",
    "table_summary_head_data = []\n",
    "\n",
    "for row in table_summary_head.find_elements(By.TAG_NAME, \"tr\"):\n",
    "    row_data = []\n",
    "    for cell in row.find_elements(By.TAG_NAME, \"th\"):\n",
    "\n",
    "        row_data.append(cell.text)\n",
    "\n",
    "    table_summary_head_data.append(row_data)\n",
    "\n",
    "\n",
    "for row in table_summary_head_data:\n",
    "    print(row)"
   ]
  },
  {
   "cell_type": "code",
   "execution_count": null,
   "metadata": {},
   "outputs": [],
   "source": [
    "\n",
    "passing_headline = ['#', 'Nation', 'Pos', 'Age', 'Min', 'Total_Cmp', 'Total_Att', 'Total_Cmp%', 'Total_TotDist', 'Total_PrgDist', 'Short_Cmp', 'Short_Att', 'Short_Cmp%', 'Medium_Cmp', 'Medium_Att', 'Medium_Cmp%', 'Long_Cmp', 'Long_Att', 'Long_Cmp%', 'Ast', 'xAG', 'xA', 'KP', '1/3', 'PPA', 'CrsPA', 'PrgP']\n",
    "\n",
    "passing_types_headline = ['#', 'Nation', 'Pos', 'Age', 'Min', 'Att', 'Pass_Types_Live', 'Pass_Types_Dead', 'Pass_Types_FK', 'Pass_Types_TB', 'Pass_Types_Sw', 'Pass_Types_Crs', 'Pass_Types_TI', 'Pass_Types_CK', 'Corner_Kicks_In', 'Corner_Kicks_Out', 'Corner_Kicks_Str', 'Outcomes_Cmp', 'Outcomes_Off', 'Outcomes_Blocks']\n",
    "\n",
    "defensive_headline = ['#', 'Nation', 'Pos', 'Age', 'Min', 'Tackles_Tkl', 'Tackles_TklW', 'Tackles_Def_3rd', 'Tackles_Mid_3rd', 'Tackles_Att 3rd', 'Challenges_Tkl', 'Challenges_Att', 'Challenges_Tkl%', 'Challenges_Lost', 'Blocks_Blocks', 'Blocks_Sh', 'Blocks_Pass', 'Int', 'Tkl+Int', 'Clr', 'Err']\n",
    "\n",
    "possession_headline = ['#', 'Nation', 'Pos', 'Age', 'Min', 'Touches_Touches', 'Touches_Def Pen', 'Touches_Def_3rd', 'Touches_Mid_3rd', 'Touches_Att_3rd', 'Touches_Att_Pen', 'Touches_Live', 'Take_Ons_Att', 'Take_Ons_Succ', 'Take_Ons_Succ%', 'Take_Ons_Tkld', 'Take_Ons_Tkld%', 'Carries_Carries', 'Carries_TotDist', 'Carries_PrgDist', 'Carries_PrgC', 'Carries_1/3', 'Carries_CPA', 'Carries_Mis', 'Carries_Dis', 'Receiving_Rec', 'Receiving_PrgR']\n",
    "\n",
    "misc_headline = ['#', 'Nation', 'Pos', 'Age', 'Min', 'Performance_CrdY', 'Performance_CrdR', 'Performance_2CrdY', 'Performance_Fls', 'Performance_Fld', 'Performance_Off', 'Performance_Crs', 'Performance_Int', 'Performance_TklW', 'Performance_PKwon', 'Performance_PKcon', 'Performance_OG', 'Performance_Recov', 'Aerial_Duels_Won', 'Aerial_Duels_Lost', 'Aerial_Duels_Won%']\n"
   ]
  },
  {
   "cell_type": "code",
   "execution_count": null,
   "metadata": {},
   "outputs": [],
   "source": [
    "#TODO: \n",
    "# - do headlinów dodać nazwe z tabeli\n",
    "# - funkcja do pobierania tabeli z danymi\n",
    "# - dodanie nowych klubów do pliku z id klubów\n",
    "# - Zebranie linków z sezonu - tabela Scores & Fixtures\n"
   ]
  }
 ],
 "metadata": {
  "kernelspec": {
   "display_name": "Python 3",
   "language": "python",
   "name": "python3"
  },
  "language_info": {
   "codemirror_mode": {
    "name": "ipython",
    "version": 3
   },
   "file_extension": ".py",
   "mimetype": "text/x-python",
   "name": "python",
   "nbconvert_exporter": "python",
   "pygments_lexer": "ipython3",
   "version": "3.10.9"
  },
  "orig_nbformat": 4
 },
 "nbformat": 4,
 "nbformat_minor": 2
}
