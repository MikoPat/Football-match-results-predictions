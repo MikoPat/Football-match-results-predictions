{
 "cells": [
  {
   "cell_type": "code",
   "execution_count": null,
   "metadata": {},
   "outputs": [],
   "source": [
    "\n",
    "\n",
    "https://fbref.com/en/matches/3a6836b4/Burnley-Manchester-City-August-11-2023-Premier-League\n",
    "\n",
    "summary: //*[@id=\"stats_943e8050_summary\"]/tbody\n",
    "\n",
    "passing: //*[@id=\"stats_943e8050_passing\"]/tbody\n",
    "\n",
    "//*[@id=\"stats_943e8050_passing\"]/thead\n",
    "\n",
    "//*[@id=\"stats_943e8050_defense\"]/thead\n",
    "\n",
    "\n",
    "\n",
    "//*[@id=\"all_player_stats_943e8050\"]/div[7]/div[1]\n",
    "\n",
    "\n",
    "//*[@id=\"all_player_stats_943e8050\"]/div[7]\n"
   ]
  },
  {
   "cell_type": "code",
   "execution_count": 64,
   "metadata": {},
   "outputs": [
    {
     "name": "stderr",
     "output_type": "stream",
     "text": [
      "/var/folders/_h/ljwht4gd7lb99rm1hm78h7_00000gn/T/ipykernel_42459/231521904.py:8: DeprecationWarning: executable_path has been deprecated, please pass in a Service object\n",
      "  driver = webdriver.Chrome(executable_path='/Users/mikolajpaterka/local/bin/chromedriver')\n"
     ]
    },
    {
     "data": {
      "text/plain": [
       "True"
      ]
     },
     "execution_count": 64,
     "metadata": {},
     "output_type": "execute_result"
    }
   ],
   "source": [
    "from selenium import webdriver\n",
    "from selenium.webdriver.chrome.service import Service\n",
    "from selenium.webdriver.chrome.webdriver import WebDriver\n",
    "from webdriver_manager.chrome import ChromeDriverManager\n",
    "from selenium.webdriver.common.by import By\n",
    "from selenium.webdriver.support.ui import WebDriverWait\n",
    "\n",
    "driver = webdriver.Chrome(executable_path='/Users/mikolajpaterka/local/bin/chromedriver')\n",
    "\n",
    "driver.get(\"https://fbref.com/en/matches/3a6836b4/Burnley-Manchester-City-August-11-2023-Premier-League\")\n",
    "\n",
    "def acceptButtonClicked(driver: WebDriver):\n",
    "  try:\n",
    "    #driver.switch_to.frame('sp_message_iframe_575846')\n",
    "    accept = driver.find_element(by=By.XPATH, value='//*[@id=\"qc-cmp2-ui\"]/div[2]/div/button[2]')\n",
    "    accept.click()\n",
    "    driver.switch_to.default_content()\n",
    "    return True\n",
    "  except:\n",
    "    return False\n",
    "\n",
    "WebDriverWait(driver, timeout=10).until(acceptButtonClicked)"
   ]
  },
  {
   "cell_type": "code",
   "execution_count": 65,
   "metadata": {},
   "outputs": [],
   "source": [
    "import pandas as pd "
   ]
  },
  {
   "cell_type": "code",
   "execution_count": 82,
   "metadata": {},
   "outputs": [
    {
     "ename": "ElementClickInterceptedException",
     "evalue": "Message: element click intercepted: Element is not clickable at point (130, 4106)\n  (Session info: chrome=118.0.5993.117)\nStacktrace:\n0   chromedriver                        0x0000000104704510 chromedriver + 4310288\n1   chromedriver                        0x00000001046fc4bc chromedriver + 4277436\n2   chromedriver                        0x000000010432fb6c chromedriver + 293740\n3   chromedriver                        0x000000010437bcb4 chromedriver + 605364\n4   chromedriver                        0x0000000104379d7c chromedriver + 597372\n5   chromedriver                        0x00000001043779a4 chromedriver + 588196\n6   chromedriver                        0x0000000104376a1c chromedriver + 584220\n7   chromedriver                        0x000000010436aeac chromedriver + 536236\n8   chromedriver                        0x000000010436a774 chromedriver + 534388\n9   chromedriver                        0x00000001043afe60 chromedriver + 818784\n10  chromedriver                        0x0000000104368fd0 chromedriver + 528336\n11  chromedriver                        0x0000000104369e7c chromedriver + 532092\n12  chromedriver                        0x00000001046ca834 chromedriver + 4073524\n13  chromedriver                        0x00000001046ce7fc chromedriver + 4089852\n14  chromedriver                        0x00000001046cec58 chromedriver + 4090968\n15  chromedriver                        0x00000001046d48f8 chromedriver + 4114680\n16  chromedriver                        0x00000001046cf234 chromedriver + 4092468\n17  chromedriver                        0x00000001046a9604 chromedriver + 3937796\n18  chromedriver                        0x00000001046ebee8 chromedriver + 4210408\n19  chromedriver                        0x00000001046ec064 chromedriver + 4210788\n20  chromedriver                        0x00000001046fc134 chromedriver + 4276532\n21  libsystem_pthread.dylib             0x000000018f78b034 _pthread_start + 136\n22  libsystem_pthread.dylib             0x000000018f785e3c thread_start + 8\n",
     "output_type": "error",
     "traceback": [
      "\u001b[0;31m---------------------------------------------------------------------------\u001b[0m",
      "\u001b[0;31mElementClickInterceptedException\u001b[0m          Traceback (most recent call last)",
      "\u001b[1;32m/Users/mikolajpaterka/Documents/Projects/Football-predictions/Poc/poszczegolny_mecz.ipynb Cell 4\u001b[0m line \u001b[0;36m2\n\u001b[1;32m      <a href='vscode-notebook-cell:/Users/mikolajpaterka/Documents/Projects/Football-predictions/Poc/poszczegolny_mecz.ipynb#X26sZmlsZQ%3D%3D?line=0'>1</a>\u001b[0m accept \u001b[39m=\u001b[39m driver\u001b[39m.\u001b[39mfind_element(by\u001b[39m=\u001b[39mBy\u001b[39m.\u001b[39mXPATH, value\u001b[39m=\u001b[39m\u001b[39m'\u001b[39m\u001b[39m//*[@id=\u001b[39m\u001b[39m\"\u001b[39m\u001b[39mall_player_stats_943e8050\u001b[39m\u001b[39m\"\u001b[39m\u001b[39m]/div[7]/div[2]\u001b[39m\u001b[39m'\u001b[39m)\n\u001b[0;32m----> <a href='vscode-notebook-cell:/Users/mikolajpaterka/Documents/Projects/Football-predictions/Poc/poszczegolny_mecz.ipynb#X26sZmlsZQ%3D%3D?line=1'>2</a>\u001b[0m accept\u001b[39m.\u001b[39;49mclick()\n",
      "File \u001b[0;32m/opt/homebrew/lib/python3.10/site-packages/selenium/webdriver/remote/webelement.py:88\u001b[0m, in \u001b[0;36mWebElement.click\u001b[0;34m(self)\u001b[0m\n\u001b[1;32m     86\u001b[0m \u001b[39mdef\u001b[39;00m \u001b[39mclick\u001b[39m(\u001b[39mself\u001b[39m) \u001b[39m-\u001b[39m\u001b[39m>\u001b[39m \u001b[39mNone\u001b[39;00m:\n\u001b[1;32m     87\u001b[0m     \u001b[39m\"\"\"Clicks the element.\"\"\"\u001b[39;00m\n\u001b[0;32m---> 88\u001b[0m     \u001b[39mself\u001b[39;49m\u001b[39m.\u001b[39;49m_execute(Command\u001b[39m.\u001b[39;49mCLICK_ELEMENT)\n",
      "File \u001b[0;32m/opt/homebrew/lib/python3.10/site-packages/selenium/webdriver/remote/webelement.py:396\u001b[0m, in \u001b[0;36mWebElement._execute\u001b[0;34m(self, command, params)\u001b[0m\n\u001b[1;32m    394\u001b[0m     params \u001b[39m=\u001b[39m {}\n\u001b[1;32m    395\u001b[0m params[\u001b[39m'\u001b[39m\u001b[39mid\u001b[39m\u001b[39m'\u001b[39m] \u001b[39m=\u001b[39m \u001b[39mself\u001b[39m\u001b[39m.\u001b[39m_id\n\u001b[0;32m--> 396\u001b[0m \u001b[39mreturn\u001b[39;00m \u001b[39mself\u001b[39;49m\u001b[39m.\u001b[39;49m_parent\u001b[39m.\u001b[39;49mexecute(command, params)\n",
      "File \u001b[0;32m/opt/homebrew/lib/python3.10/site-packages/selenium/webdriver/remote/webdriver.py:429\u001b[0m, in \u001b[0;36mWebDriver.execute\u001b[0;34m(self, driver_command, params)\u001b[0m\n\u001b[1;32m    427\u001b[0m response \u001b[39m=\u001b[39m \u001b[39mself\u001b[39m\u001b[39m.\u001b[39mcommand_executor\u001b[39m.\u001b[39mexecute(driver_command, params)\n\u001b[1;32m    428\u001b[0m \u001b[39mif\u001b[39;00m response:\n\u001b[0;32m--> 429\u001b[0m     \u001b[39mself\u001b[39;49m\u001b[39m.\u001b[39;49merror_handler\u001b[39m.\u001b[39;49mcheck_response(response)\n\u001b[1;32m    430\u001b[0m     response[\u001b[39m'\u001b[39m\u001b[39mvalue\u001b[39m\u001b[39m'\u001b[39m] \u001b[39m=\u001b[39m \u001b[39mself\u001b[39m\u001b[39m.\u001b[39m_unwrap_value(\n\u001b[1;32m    431\u001b[0m         response\u001b[39m.\u001b[39mget(\u001b[39m'\u001b[39m\u001b[39mvalue\u001b[39m\u001b[39m'\u001b[39m, \u001b[39mNone\u001b[39;00m))\n\u001b[1;32m    432\u001b[0m     \u001b[39mreturn\u001b[39;00m response\n",
      "File \u001b[0;32m/opt/homebrew/lib/python3.10/site-packages/selenium/webdriver/remote/errorhandler.py:243\u001b[0m, in \u001b[0;36mErrorHandler.check_response\u001b[0;34m(self, response)\u001b[0m\n\u001b[1;32m    241\u001b[0m         alert_text \u001b[39m=\u001b[39m value[\u001b[39m'\u001b[39m\u001b[39malert\u001b[39m\u001b[39m'\u001b[39m]\u001b[39m.\u001b[39mget(\u001b[39m'\u001b[39m\u001b[39mtext\u001b[39m\u001b[39m'\u001b[39m)\n\u001b[1;32m    242\u001b[0m     \u001b[39mraise\u001b[39;00m exception_class(message, screen, stacktrace, alert_text)  \u001b[39m# type: ignore[call-arg]  # mypy is not smart enough here\u001b[39;00m\n\u001b[0;32m--> 243\u001b[0m \u001b[39mraise\u001b[39;00m exception_class(message, screen, stacktrace)\n",
      "\u001b[0;31mElementClickInterceptedException\u001b[0m: Message: element click intercepted: Element is not clickable at point (130, 4106)\n  (Session info: chrome=118.0.5993.117)\nStacktrace:\n0   chromedriver                        0x0000000104704510 chromedriver + 4310288\n1   chromedriver                        0x00000001046fc4bc chromedriver + 4277436\n2   chromedriver                        0x000000010432fb6c chromedriver + 293740\n3   chromedriver                        0x000000010437bcb4 chromedriver + 605364\n4   chromedriver                        0x0000000104379d7c chromedriver + 597372\n5   chromedriver                        0x00000001043779a4 chromedriver + 588196\n6   chromedriver                        0x0000000104376a1c chromedriver + 584220\n7   chromedriver                        0x000000010436aeac chromedriver + 536236\n8   chromedriver                        0x000000010436a774 chromedriver + 534388\n9   chromedriver                        0x00000001043afe60 chromedriver + 818784\n10  chromedriver                        0x0000000104368fd0 chromedriver + 528336\n11  chromedriver                        0x0000000104369e7c chromedriver + 532092\n12  chromedriver                        0x00000001046ca834 chromedriver + 4073524\n13  chromedriver                        0x00000001046ce7fc chromedriver + 4089852\n14  chromedriver                        0x00000001046cec58 chromedriver + 4090968\n15  chromedriver                        0x00000001046d48f8 chromedriver + 4114680\n16  chromedriver                        0x00000001046cf234 chromedriver + 4092468\n17  chromedriver                        0x00000001046a9604 chromedriver + 3937796\n18  chromedriver                        0x00000001046ebee8 chromedriver + 4210408\n19  chromedriver                        0x00000001046ec064 chromedriver + 4210788\n20  chromedriver                        0x00000001046fc134 chromedriver + 4276532\n21  libsystem_pthread.dylib             0x000000018f78b034 _pthread_start + 136\n22  libsystem_pthread.dylib             0x000000018f785e3c thread_start + 8\n"
     ]
    }
   ],
   "source": [
    "accept = driver.find_element(by=By.XPATH, value='//*[@id=\"all_player_stats_943e8050\"]/div[7]/div[2]')\n",
    "accept.click()"
   ]
  },
  {
   "cell_type": "markdown",
   "metadata": {},
   "source": [
    "#### -------------------------------------"
   ]
  },
  {
   "cell_type": "code",
   "execution_count": 81,
   "metadata": {},
   "outputs": [
    {
     "name": "stdout",
     "output_type": "stream",
     "text": [
      "['', '', '', '', '', '', '', '', '', '', '', '', '', '', '', '', '', '', '', '']\n"
     ]
    }
   ],
   "source": [
    "\n",
    "table_summary = driver.find_element(by=By.XPATH, value='//*[@id=\"stats_943e8050_passing_types\"]/tfoot') \n",
    "\n",
    "table_summary_data = []\n",
    "\n",
    "for row in table_summary.find_elements(By.TAG_NAME, \"tr\"):\n",
    "    row_data = []\n",
    "    for cell in row.find_elements(By.TAG_NAME, \"td\"):\n",
    "\n",
    "        row_data.append(cell.text)\n",
    "\n",
    "    table_summary_data.append(row_data)\n",
    "\n",
    "\n",
    "for row in table_summary_data:\n",
    "    print(row)"
   ]
  },
  {
   "cell_type": "code",
   "execution_count": 26,
   "metadata": {},
   "outputs": [],
   "source": [
    "df_summary = pd.DataFrame(table_summary_data, columns = summary_headlines)"
   ]
  },
  {
   "cell_type": "code",
   "execution_count": 27,
   "metadata": {},
   "outputs": [
    {
     "data": {
      "text/html": [
       "<div>\n",
       "<style scoped>\n",
       "    .dataframe tbody tr th:only-of-type {\n",
       "        vertical-align: middle;\n",
       "    }\n",
       "\n",
       "    .dataframe tbody tr th {\n",
       "        vertical-align: top;\n",
       "    }\n",
       "\n",
       "    .dataframe thead th {\n",
       "        text-align: right;\n",
       "    }\n",
       "</style>\n",
       "<table border=\"1\" class=\"dataframe\">\n",
       "  <thead>\n",
       "    <tr style=\"text-align: right;\">\n",
       "      <th></th>\n",
       "      <th>#</th>\n",
       "      <th>Nation</th>\n",
       "      <th>Pos</th>\n",
       "      <th>Age</th>\n",
       "      <th>Min</th>\n",
       "      <th>Performance_Gls</th>\n",
       "      <th>Performance_Ast</th>\n",
       "      <th>Performance_PK</th>\n",
       "      <th>Performance_PKatt</th>\n",
       "      <th>Performance_Sh</th>\n",
       "      <th>...</th>\n",
       "      <th>SCA_SCA</th>\n",
       "      <th>SCA_GCA</th>\n",
       "      <th>Passes_Cmp</th>\n",
       "      <th>Passes_Att</th>\n",
       "      <th>Passes_Cmp%</th>\n",
       "      <th>Passes_PrgP</th>\n",
       "      <th>Carries_Carries</th>\n",
       "      <th>Carries_PrgC</th>\n",
       "      <th>Take_Ons_Att</th>\n",
       "      <th>Take_Ons_Succ</th>\n",
       "    </tr>\n",
       "  </thead>\n",
       "  <tbody>\n",
       "    <tr>\n",
       "      <th>0</th>\n",
       "      <td></td>\n",
       "      <td></td>\n",
       "      <td></td>\n",
       "      <td></td>\n",
       "      <td>989</td>\n",
       "      <td>0</td>\n",
       "      <td>0</td>\n",
       "      <td>0</td>\n",
       "      <td>0</td>\n",
       "      <td>6</td>\n",
       "      <td>...</td>\n",
       "      <td>10</td>\n",
       "      <td>0</td>\n",
       "      <td>313</td>\n",
       "      <td>395</td>\n",
       "      <td>79.2</td>\n",
       "      <td>18</td>\n",
       "      <td>225</td>\n",
       "      <td>10</td>\n",
       "      <td>15</td>\n",
       "      <td>3</td>\n",
       "    </tr>\n",
       "  </tbody>\n",
       "</table>\n",
       "<p>1 rows × 30 columns</p>\n",
       "</div>"
      ],
      "text/plain": [
       "  # Nation Pos Age  Min Performance_Gls Performance_Ast Performance_PK  \\\n",
       "0                   989               0               0              0   \n",
       "\n",
       "  Performance_PKatt Performance_Sh  ... SCA_SCA SCA_GCA Passes_Cmp Passes_Att  \\\n",
       "0                 0              6  ...      10       0        313        395   \n",
       "\n",
       "  Passes_Cmp% Passes_PrgP Carries_Carries Carries_PrgC Take_Ons_Att  \\\n",
       "0        79.2          18             225           10           15   \n",
       "\n",
       "  Take_Ons_Succ  \n",
       "0             3  \n",
       "\n",
       "[1 rows x 30 columns]"
      ]
     },
     "execution_count": 27,
     "metadata": {},
     "output_type": "execute_result"
    }
   ],
   "source": [
    "df_summary"
   ]
  },
  {
   "cell_type": "markdown",
   "metadata": {},
   "source": [
    "### passing"
   ]
  },
  {
   "cell_type": "markdown",
   "metadata": {},
   "source": [
    "##### nazwy poszczególnych tabel\n",
    "\n",
    "summary\n",
    "\n",
    "passing\n",
    "\n",
    "passing_types\n",
    "\n",
    "defense\n",
    "\n",
    "possession\n",
    "\n",
    "misc\n",
    "\n",
    "\n",
    "\n"
   ]
  },
  {
   "cell_type": "code",
   "execution_count": 5,
   "metadata": {},
   "outputs": [],
   "source": [
    "summary_headlines = ['#', 'Nation', 'Pos', 'Age', 'Min', 'Performance_Gls', 'Performance_Ast', 'Performance_PK', 'Performance_PKatt', 'Performance_Sh', 'Performance_SoT', 'Performance_CrdY', 'Performance_CrdR', 'Performance_Touches', 'Performance_Tkl', 'Performance_Int', 'Performance_Blocks', 'Expected_xG', 'Expected_npxG', 'Expected_xAG', 'SCA_SCA', 'SCA_GCA', 'Passes_Cmp', 'Passes_Att', 'Passes_Cmp%', 'Passes_PrgP', 'Carries_Carries', 'Carries_PrgC', 'Take_Ons_Att', 'Take_Ons_Succ']\n",
    "\n",
    "passing_headline = ['#', 'Nation', 'Pos', 'Age', 'Min', 'Total_Cmp', 'Total_Att', 'Total_Cmp%', 'Total_TotDist', 'Total_PrgDist', 'Short_Cmp', 'Short_Att', 'Short_Cmp%', 'Medium_Cmp', 'Medium_Att', 'Medium_Cmp%', 'Long_Cmp', 'Long_Att', 'Long_Cmp%', 'Ast', 'xAG', 'xA', 'KP', '1/3', 'PPA', 'CrsPA', 'PrgP']\n",
    "\n",
    "passing_types_headline = ['#', 'Nation', 'Pos', 'Age', 'Min', 'Att', 'Pass_Types_Live', 'Pass_Types_Dead', 'Pass_Types_FK', 'Pass_Types_TB', 'Pass_Types_Sw', 'Pass_Types_Crs', 'Pass_Types_TI', 'Pass_Types_CK', 'Corner_Kicks_In', 'Corner_Kicks_Out', 'Corner_Kicks_Str', 'Outcomes_Cmp', 'Outcomes_Off', 'Outcomes_Blocks']\n",
    "\n",
    "defensive_headline = ['#', 'Nation', 'Pos', 'Age', 'Min', 'Tackles_Tkl', 'Tackles_TklW', 'Tackles_Def_3rd', 'Tackles_Mid_3rd', 'Tackles_Att 3rd', 'Challenges_Tkl', 'Challenges_Att', 'Challenges_Tkl%', 'Challenges_Lost', 'Blocks_Blocks', 'Blocks_Sh', 'Blocks_Pass', 'Int', 'Tkl+Int', 'Clr', 'Err']\n",
    "\n",
    "possession_headline = ['#', 'Nation', 'Pos', 'Age', 'Min', 'Touches_Touches', 'Touches_Def Pen', 'Touches_Def_3rd', 'Touches_Mid_3rd', 'Touches_Att_3rd', 'Touches_Att_Pen', 'Touches_Live', 'Take_Ons_Att', 'Take_Ons_Succ', 'Take_Ons_Succ%', 'Take_Ons_Tkld', 'Take_Ons_Tkld%', 'Carries_Carries', 'Carries_TotDist', 'Carries_PrgDist', 'Carries_PrgC', 'Carries_1/3', 'Carries_CPA', 'Carries_Mis', 'Carries_Dis', 'Receiving_Rec', 'Receiving_PrgR']\n",
    "\n",
    "misc_headline = ['#', 'Nation', 'Pos', 'Age', 'Min', 'Performance_CrdY', 'Performance_CrdR', 'Performance_2CrdY', 'Performance_Fls', 'Performance_Fld', 'Performance_Off', 'Performance_Crs', 'Performance_Int', 'Performance_TklW', 'Performance_PKwon', 'Performance_PKcon', 'Performance_OG', 'Performance_Recov', 'Aerial_Duels_Won', 'Aerial_Duels_Lost', 'Aerial_Duels_Won%']\n"
   ]
  },
  {
   "cell_type": "code",
   "execution_count": 6,
   "metadata": {},
   "outputs": [],
   "source": [
    "summary_headlines = [\"summary_\" + x for x in summary_headlines]\n",
    "passing_headline = [\"passing_\" + x for x in passing_headline]\n",
    "passing_types_headline = [\"passing_types_\" + x for x in passing_types_headline]\n",
    "defensive_headline = [\"defensive_types_\" + x for x in defensive_headline]\n",
    "possession_headline = [\"possession_types_\" + x for x in possession_headline]\n",
    "misc_headline = [\"misc_types_\" + x for x in misc_headline]"
   ]
  },
  {
   "cell_type": "code",
   "execution_count": null,
   "metadata": {},
   "outputs": [],
   "source": [
    "#TODO: \n",
    "# - funkcja do pobierania tabeli z danymi -> gdy nie jest na 'current' to dane nie chcią się ściagnąć mimo, ze są w kodzie strony\n",
    "# - Zebranie linków z sezonu - tabela Scores & Fixtures\n",
    "# chyba trzeba szykać w tekście\n"
   ]
  },
  {
   "cell_type": "markdown",
   "metadata": {},
   "source": [
    "## --------"
   ]
  }
 ],
 "metadata": {
  "kernelspec": {
   "display_name": "Python 3",
   "language": "python",
   "name": "python3"
  },
  "language_info": {
   "codemirror_mode": {
    "name": "ipython",
    "version": 3
   },
   "file_extension": ".py",
   "mimetype": "text/x-python",
   "name": "python",
   "nbconvert_exporter": "python",
   "pygments_lexer": "ipython3",
   "version": "3.10.9"
  },
  "orig_nbformat": 4
 },
 "nbformat": 4,
 "nbformat_minor": 2
}
