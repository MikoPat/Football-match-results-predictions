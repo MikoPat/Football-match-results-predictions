{
 "cells": [
  {
   "cell_type": "code",
   "execution_count": 13,
   "metadata": {},
   "outputs": [
    {
     "name": "stderr",
     "output_type": "stream",
     "text": [
      "/var/folders/_h/ljwht4gd7lb99rm1hm78h7_00000gn/T/ipykernel_27513/14274955.py:3: DeprecationWarning: executable_path has been deprecated, please pass in a Service object\n",
      "  driver = webdriver.Chrome(executable_path='/Users/mikolajpaterka/local/bin/chromedriver')\n"
     ]
    }
   ],
   "source": [
    "from selenium import webdriver\n",
    "\n",
    "driver = webdriver.Chrome(executable_path='/Users/mikolajpaterka/local/bin/chromedriver')\n",
    "\n",
    "\n",
    "driver.get(\"https://fbref.com/en/squads/b8fd03ef/Manchester-City-Stats\")"
   ]
  },
  {
   "cell_type": "code",
   "execution_count": 20,
   "metadata": {},
   "outputs": [
    {
     "name": "stderr",
     "output_type": "stream",
     "text": [
      "/var/folders/_h/ljwht4gd7lb99rm1hm78h7_00000gn/T/ipykernel_27513/2430171079.py:8: DeprecationWarning: executable_path has been deprecated, please pass in a Service object\n",
      "  driver = webdriver.Chrome(executable_path='/Users/mikolajpaterka/local/bin/chromedriver')\n"
     ]
    },
    {
     "data": {
      "text/plain": [
       "True"
      ]
     },
     "execution_count": 20,
     "metadata": {},
     "output_type": "execute_result"
    }
   ],
   "source": [
    "from selenium import webdriver\n",
    "from selenium.webdriver.chrome.service import Service\n",
    "from selenium.webdriver.chrome.webdriver import WebDriver\n",
    "from webdriver_manager.chrome import ChromeDriverManager\n",
    "from selenium.webdriver.common.by import By\n",
    "from selenium.webdriver.support.ui import WebDriverWait\n",
    "\n",
    "driver = webdriver.Chrome(executable_path='/Users/mikolajpaterka/local/bin/chromedriver')\n",
    "\n",
    "driver.get(\"https://fbref.com/en/squads/b8fd03ef/Manchester-City-Stats\")\n",
    "\n",
    "def acceptButtonClicked(driver: WebDriver):\n",
    "  try:\n",
    "    #driver.switch_to.frame('sp_message_iframe_575846')\n",
    "    accept = driver.find_element(by=By.XPATH, value='//*[@id=\"qc-cmp2-ui\"]/div[2]/div/button[2]')\n",
    "    accept.click()\n",
    "    driver.switch_to.default_content()\n",
    "    return True\n",
    "  except:\n",
    "    return False\n",
    "\n",
    "WebDriverWait(driver, timeout=10).until(acceptButtonClicked)"
   ]
  },
  {
   "cell_type": "code",
   "execution_count": 56,
   "metadata": {},
   "outputs": [
    {
     "name": "stdout",
     "output_type": "stream",
     "text": [
      "<selenium.webdriver.remote.webelement.WebElement (session=\"214f4245c0b65439485f7fd3b44d34e5\", element=\"E847D8C4AF5F632A428779A44BD9302A_element_513\")>\n"
     ]
    }
   ],
   "source": [
    "tableElement = None\n",
    "\n",
    "def collectBoxData(driver: WebDriver):\n",
    "  global tableElement\n",
    "  table = driver.find_element(by=By.XPATH, value='//*[@id=\"matchlogs_for\"]/tbody')\n",
    "  if table.text == \"\":\n",
    "    return False\n",
    "  tableElement = table\n",
    "  return True\n",
    "\n",
    "WebDriverWait(driver, timeout=10).until(collectBoxData)\n",
    "print(tableElement)"
   ]
  },
  {
   "cell_type": "code",
   "execution_count": 57,
   "metadata": {},
   "outputs": [],
   "source": [
    "scores_fixtures = tableElement.text.split('\\n')"
   ]
  },
  {
   "cell_type": "code",
   "execution_count": 58,
   "metadata": {},
   "outputs": [
    {
     "name": "stdout",
     "output_type": "stream",
     "text": [
      "['2023-08-06 16:00 (17:00) Community Shield FA Community Shield Sun Neutral D 1 (1) 1 (4) Arsenal 55 81,145 Kyle Walker 4-2-3-1 Stuart Attwell Match Report Arsenal won on penalty kicks following normal time', '2023-08-11 20:00 (21:00) Premier League Matchweek 1 Fri Away W 3 0 Burnley 1.9 0.3 65 21,572 Kevin De Bruyne 4-2-3-1 Craig Pawson Match Report', '2023-08-16 22:00 (21:00) Super Cup UEFA Super Cup Wed Home D 1 (5) 1 (4) es Sevilla 74 Kyle Walker 4-2-3-1 François Letexier Match Report', '2023-08-19 20:00 (21:00) Premier League Matchweek 2 Sat Home W 1 0 Newcastle Utd 1.0 0.3 59 Kyle Walker 4-2-3-1 Robert Jones Match Report', '2023-08-27 14:00 (15:00) Premier League Matchweek 3 Sun Away W 2 1 Sheffield Utd 3.5 0.7 79 31,336 Kyle Walker 4-2-3-1 Jarred Gillett Match Report', '2023-09-02 15:00 (16:00) Premier League Matchweek 4 Sat Home W 5 1 Fulham 2.2 1.4 68 52,899 Kyle Walker 4-2-3-1 Michael Oliver Match Report', '2023-09-16 15:00 (16:00) Premier League Matchweek 5 Sat Away W 3 1 West Ham 3.6 0.9 68 62,475 Kyle Walker 4-2-3-1 Andy Madley Match Report', '2023-09-19 20:00 (21:00) Champions Lg Group stage Tue Home W 3 1 rs Red Star 4.1 0.8 76 50,204 Kyle Walker 4-2-3-1 João Pinheiro Match Report', \"2023-09-23 15:00 (16:00) Premier League Matchweek 6 Sat Home W 2 0 Nott'ham Forest 1.3 1.0 57 53,413 Kyle Walker 4-2-3-1 Anthony Taylor Match Report\", '2023-09-27 20:00 (21:00) EFL Cup Third round Wed Away L 0 1 Newcastle Utd 67 51,692 Nathan Aké 3-2-4-1 Chris Kavanagh Match Report', '2023-09-30 15:00 (16:00) Premier League Matchweek 7 Sat Away L 1 2 Wolves 0.9 0.4 68 31,415 Kyle Walker 4-2-3-1 Craig Pawson Match Report', '2023-10-04 21:00 Champions Lg Group stage Wed Away W 3 1 de RB Leipzig 2.2 0.5 68 45,228 Kyle Walker 3-2-4-1 Artur Soares Dias Match Report', '2023-10-08 16:30 (17:30) Premier League Matchweek 8 Sun Away L 0 1 Arsenal 0.5 0.4 51 60,233 Kyle Walker 4-3-3 Michael Oliver Match Report', '2023-10-21 15:00 (16:00) Premier League Matchweek 9 Sat Home W 2 1 Brighton 0.8 0.8 55 53,466 Kyle Walker 3-2-4-1 Robert Jones Match Report', '2023-10-25 21:00 Champions Lg Group stage Wed Away ch Young Boys Head-to-Head', '2023-10-29 15:30 (16:30) Premier League Matchweek 10 Sun Away Manchester Utd Head-to-Head', '2023-11-04 15:00 (16:00) Premier League Matchweek 11 Sat Home Bournemouth Head-to-Head', '2023-11-07 20:00 (21:00) Champions Lg Group stage Tue Home ch Young Boys Head-to-Head', '2023-11-12 16:30 (17:30) Premier League Matchweek 12 Sun Away Chelsea Head-to-Head', '2023-11-25 12:30 (13:30) Premier League Matchweek 13 Sat Home Liverpool Head-to-Head', '2023-11-28 20:00 (21:00) Champions Lg Group stage Tue Home de RB Leipzig Head-to-Head', '2023-12-03 16:30 (17:30) Premier League Matchweek 14 Sun Home Tottenham Head-to-Head', '2023-12-05 19:45 (20:45) Premier League Matchweek 15 Tue Away Aston Villa Head-to-Head', '2023-12-09 Premier League Matchweek 16 Sat Away Luton Town Head-to-Head', '2023-12-13 18:45 Champions Lg Group stage Wed Away rs Red Star Head-to-Head', '2023-12-16 Premier League Matchweek 17 Sat Home Crystal Palace Head-to-Head', '2023-12-23 Premier League Matchweek 18 Sat Home Brentford Match Postponed', '2023-12-26 Premier League Matchweek 19 Tue Away Everton Head-to-Head', '2023-12-30 Premier League Matchweek 20 Sat Home Sheffield Utd Head-to-Head', '2024-01-13 Premier League Matchweek 21 Sat Away Newcastle Utd Head-to-Head', '2024-01-31 Premier League Matchweek 22 Wed Home Burnley Head-to-Head', '2024-02-03 Premier League Matchweek 23 Sat Away Brentford Head-to-Head', '2024-02-10 Premier League Matchweek 24 Sat Home Everton Head-to-Head', '2024-02-17 Premier League Matchweek 25 Sat Home Chelsea Head-to-Head', '2024-02-24 Premier League Matchweek 26 Sat Away Bournemouth Head-to-Head', '2024-03-02 Premier League Matchweek 27 Sat Home Manchester Utd Head-to-Head', '2024-03-09 Premier League Matchweek 28 Sat Away Liverpool Head-to-Head', '2024-03-16 Premier League Matchweek 29 Sat Away Brighton Head-to-Head', '2024-03-30 Premier League Matchweek 30 Sat Home Arsenal Head-to-Head', '2024-04-03 Premier League Matchweek 31 Wed Home Aston Villa Head-to-Head', '2024-04-06 Premier League Matchweek 32 Sat Away Crystal Palace Head-to-Head', '2024-04-13 Premier League Matchweek 33 Sat Home Luton Town Head-to-Head', '2024-04-20 Premier League Matchweek 34 Sat Away Tottenham Head-to-Head', \"2024-04-27 Premier League Matchweek 35 Sat Away Nott'ham Forest Head-to-Head\", '2024-05-04 Premier League Matchweek 36 Sat Home Wolves Head-to-Head', '2024-05-11 Premier League Matchweek 37 Sat Away Fulham Head-to-Head', '2024-05-19 Premier League Matchweek 38 Sun Home West Ham Head-to-Head']\n"
     ]
    }
   ],
   "source": [
    "print(scores_fixtures)"
   ]
  },
  {
   "cell_type": "code",
   "execution_count": 51,
   "metadata": {},
   "outputs": [],
   "source": [
    "transfers = []\n",
    "\n",
    "for player in scores_fixtures:\n",
    "  playerNode = {}\n",
    "  transferFields = player.split('\\n')"
   ]
  },
  {
   "cell_type": "markdown",
   "metadata": {},
   "source": [
    "----"
   ]
  },
  {
   "cell_type": "code",
   "execution_count": 62,
   "metadata": {},
   "outputs": [],
   "source": [
    "import pandas as pd "
   ]
  },
  {
   "cell_type": "code",
   "execution_count": 59,
   "metadata": {},
   "outputs": [],
   "source": [
    "table = driver.find_element(by=By.XPATH, value='//*[@id=\"matchlogs_for\"]/tbody')  # Replace \"table_id\" with the actual ID of the table"
   ]
  },
  {
   "cell_type": "code",
   "execution_count": 87,
   "metadata": {},
   "outputs": [
    {
     "name": "stdout",
     "output_type": "stream",
     "text": [
      "['16:00 (17:00)', 'Community Shield', 'FA Community Shield', 'Sun', 'Neutral', 'D', '1 (1)', '1 (4)', 'Arsenal', '', '', '55', '81,145', 'Kyle Walker', '4-2-3-1', 'Stuart Attwell', 'Match Report', 'Arsenal won on penalty kicks following normal time']\n",
      "['20:00 (21:00)', 'Premier League', 'Matchweek 1', 'Fri', 'Away', 'W', '3', '0', 'Burnley', '1.9', '0.3', '65', '21,572', 'Kevin De Bruyne', '4-2-3-1', 'Craig Pawson', 'Match Report', '']\n",
      "['22:00 (21:00)', 'Super Cup', 'UEFA Super Cup', 'Wed', 'Home', 'D', '1 (5)', '1 (4)', 'es Sevilla', '', '', '74', '', 'Kyle Walker', '4-2-3-1', 'François Letexier', 'Match Report', '']\n",
      "['20:00 (21:00)', 'Premier League', 'Matchweek 2', 'Sat', 'Home', 'W', '1', '0', 'Newcastle Utd', '1.0', '0.3', '59', '', 'Kyle Walker', '4-2-3-1', 'Robert Jones', 'Match Report', '']\n",
      "['14:00 (15:00)', 'Premier League', 'Matchweek 3', 'Sun', 'Away', 'W', '2', '1', 'Sheffield Utd', '3.5', '0.7', '79', '31,336', 'Kyle Walker', '4-2-3-1', 'Jarred Gillett', 'Match Report', '']\n",
      "['15:00 (16:00)', 'Premier League', 'Matchweek 4', 'Sat', 'Home', 'W', '5', '1', 'Fulham', '2.2', '1.4', '68', '52,899', 'Kyle Walker', '4-2-3-1', 'Michael Oliver', 'Match Report', '']\n",
      "['15:00 (16:00)', 'Premier League', 'Matchweek 5', 'Sat', 'Away', 'W', '3', '1', 'West Ham', '3.6', '0.9', '68', '62,475', 'Kyle Walker', '4-2-3-1', 'Andy Madley', 'Match Report', '']\n",
      "['20:00 (21:00)', 'Champions Lg', 'Group stage', 'Tue', 'Home', 'W', '3', '1', 'rs Red Star', '4.1', '0.8', '76', '50,204', 'Kyle Walker', '4-2-3-1', 'João Pinheiro', 'Match Report', '']\n",
      "['15:00 (16:00)', 'Premier League', 'Matchweek 6', 'Sat', 'Home', 'W', '2', '0', \"Nott'ham Forest\", '1.3', '1.0', '57', '53,413', 'Kyle Walker', '4-2-3-1', 'Anthony Taylor', 'Match Report', '']\n",
      "['20:00 (21:00)', 'EFL Cup', 'Third round', 'Wed', 'Away', 'L', '0', '1', 'Newcastle Utd', '', '', '67', '51,692', 'Nathan Aké', '3-2-4-1', 'Chris Kavanagh', 'Match Report', '']\n",
      "['15:00 (16:00)', 'Premier League', 'Matchweek 7', 'Sat', 'Away', 'L', '1', '2', 'Wolves', '0.9', '0.4', '68', '31,415', 'Kyle Walker', '4-2-3-1', 'Craig Pawson', 'Match Report', '']\n",
      "['21:00', 'Champions Lg', 'Group stage', 'Wed', 'Away', 'W', '3', '1', 'de RB Leipzig', '2.2', '0.5', '68', '45,228', 'Kyle Walker', '3-2-4-1', 'Artur Soares Dias', 'Match Report', '']\n",
      "['16:30 (17:30)', 'Premier League', 'Matchweek 8', 'Sun', 'Away', 'L', '0', '1', 'Arsenal', '0.5', '0.4', '51', '60,233', 'Kyle Walker', '4-3-3', 'Michael Oliver', 'Match Report', '']\n",
      "['15:00 (16:00)', 'Premier League', 'Matchweek 9', 'Sat', 'Home', 'W', '2', '1', 'Brighton', '0.8', '0.8', '55', '53,466', 'Kyle Walker', '3-2-4-1', 'Robert Jones', 'Match Report', '']\n",
      "['21:00', 'Champions Lg', 'Group stage', 'Wed', 'Away', '', '', '', 'ch Young Boys', '', '', '', '', '', '', '', 'Head-to-Head', '']\n",
      "['15:30 (16:30)', 'Premier League', 'Matchweek 10', 'Sun', 'Away', '', '', '', 'Manchester Utd', '', '', '', '', '', '', '', 'Head-to-Head', '']\n",
      "['15:00 (16:00)', 'Premier League', 'Matchweek 11', 'Sat', 'Home', '', '', '', 'Bournemouth', '', '', '', '', '', '', '', 'Head-to-Head', '']\n",
      "['20:00 (21:00)', 'Champions Lg', 'Group stage', 'Tue', 'Home', '', '', '', 'ch Young Boys', '', '', '', '', '', '', '', 'Head-to-Head', '']\n",
      "['16:30 (17:30)', 'Premier League', 'Matchweek 12', 'Sun', 'Away', '', '', '', 'Chelsea', '', '', '', '', '', '', '', 'Head-to-Head', '']\n",
      "['12:30 (13:30)', 'Premier League', 'Matchweek 13', 'Sat', 'Home', '', '', '', 'Liverpool', '', '', '', '', '', '', '', 'Head-to-Head', '']\n",
      "['20:00 (21:00)', 'Champions Lg', 'Group stage', 'Tue', 'Home', '', '', '', 'de RB Leipzig', '', '', '', '', '', '', '', 'Head-to-Head', '']\n",
      "['16:30 (17:30)', 'Premier League', 'Matchweek 14', 'Sun', 'Home', '', '', '', 'Tottenham', '', '', '', '', '', '', '', 'Head-to-Head', '']\n",
      "['19:45 (20:45)', 'Premier League', 'Matchweek 15', 'Tue', 'Away', '', '', '', 'Aston Villa', '', '', '', '', '', '', '', 'Head-to-Head', '']\n",
      "['', 'Premier League', 'Matchweek 16', 'Sat', 'Away', '', '', '', 'Luton Town', '', '', '', '', '', '', '', 'Head-to-Head', '']\n",
      "['18:45', 'Champions Lg', 'Group stage', 'Wed', 'Away', '', '', '', 'rs Red Star', '', '', '', '', '', '', '', 'Head-to-Head', '']\n",
      "['', 'Premier League', 'Matchweek 17', 'Sat', 'Home', '', '', '', 'Crystal Palace', '', '', '', '', '', '', '', 'Head-to-Head', '']\n",
      "['', 'Premier League', 'Matchweek 18', 'Sat', 'Home', '', '', '', 'Brentford', '', '', '', '', '', '', '', '', 'Match Postponed']\n",
      "['', 'Premier League', 'Matchweek 19', 'Tue', 'Away', '', '', '', 'Everton', '', '', '', '', '', '', '', 'Head-to-Head', '']\n",
      "['', 'Premier League', 'Matchweek 20', 'Sat', 'Home', '', '', '', 'Sheffield Utd', '', '', '', '', '', '', '', 'Head-to-Head', '']\n",
      "['', 'Premier League', 'Matchweek 21', 'Sat', 'Away', '', '', '', 'Newcastle Utd', '', '', '', '', '', '', '', 'Head-to-Head', '']\n",
      "['', 'Premier League', 'Matchweek 22', 'Wed', 'Home', '', '', '', 'Burnley', '', '', '', '', '', '', '', 'Head-to-Head', '']\n",
      "['', 'Premier League', 'Matchweek 23', 'Sat', 'Away', '', '', '', 'Brentford', '', '', '', '', '', '', '', 'Head-to-Head', '']\n",
      "['', 'Premier League', 'Matchweek 24', 'Sat', 'Home', '', '', '', 'Everton', '', '', '', '', '', '', '', 'Head-to-Head', '']\n",
      "['', 'Premier League', 'Matchweek 25', 'Sat', 'Home', '', '', '', 'Chelsea', '', '', '', '', '', '', '', 'Head-to-Head', '']\n",
      "['', 'Premier League', 'Matchweek 26', 'Sat', 'Away', '', '', '', 'Bournemouth', '', '', '', '', '', '', '', 'Head-to-Head', '']\n",
      "['', 'Premier League', 'Matchweek 27', 'Sat', 'Home', '', '', '', 'Manchester Utd', '', '', '', '', '', '', '', 'Head-to-Head', '']\n",
      "['', 'Premier League', 'Matchweek 28', 'Sat', 'Away', '', '', '', 'Liverpool', '', '', '', '', '', '', '', 'Head-to-Head', '']\n",
      "['', 'Premier League', 'Matchweek 29', 'Sat', 'Away', '', '', '', 'Brighton', '', '', '', '', '', '', '', 'Head-to-Head', '']\n",
      "['', 'Premier League', 'Matchweek 30', 'Sat', 'Home', '', '', '', 'Arsenal', '', '', '', '', '', '', '', 'Head-to-Head', '']\n",
      "['', 'Premier League', 'Matchweek 31', 'Wed', 'Home', '', '', '', 'Aston Villa', '', '', '', '', '', '', '', 'Head-to-Head', '']\n",
      "['', 'Premier League', 'Matchweek 32', 'Sat', 'Away', '', '', '', 'Crystal Palace', '', '', '', '', '', '', '', 'Head-to-Head', '']\n",
      "['', 'Premier League', 'Matchweek 33', 'Sat', 'Home', '', '', '', 'Luton Town', '', '', '', '', '', '', '', 'Head-to-Head', '']\n",
      "['', 'Premier League', 'Matchweek 34', 'Sat', 'Away', '', '', '', 'Tottenham', '', '', '', '', '', '', '', 'Head-to-Head', '']\n",
      "['', 'Premier League', 'Matchweek 35', 'Sat', 'Away', '', '', '', \"Nott'ham Forest\", '', '', '', '', '', '', '', 'Head-to-Head', '']\n",
      "['', 'Premier League', 'Matchweek 36', 'Sat', 'Home', '', '', '', 'Wolves', '', '', '', '', '', '', '', 'Head-to-Head', '']\n",
      "['', 'Premier League', 'Matchweek 37', 'Sat', 'Away', '', '', '', 'Fulham', '', '', '', '', '', '', '', 'Head-to-Head', '']\n",
      "['', 'Premier League', 'Matchweek 38', 'Sun', 'Home', '', '', '', 'West Ham', '', '', '', '', '', '', '', 'Head-to-Head', '']\n"
     ]
    }
   ],
   "source": [
    "table_data = []\n",
    "\n",
    "\n",
    "for row in table.find_elements(By.TAG_NAME, \"tr\"):\n",
    "    row_data = []\n",
    "    for cell in row.find_elements(By.TAG_NAME, \"td\"):\n",
    "\n",
    "        row_data.append(cell.text)\n",
    "    table_data.append(row_data)\n",
    "\n",
    "\n",
    "for row in table_data:\n",
    "    print(row)"
   ]
  },
  {
   "cell_type": "code",
   "execution_count": 65,
   "metadata": {},
   "outputs": [],
   "source": [
    "df = pd.DataFrame(table_data, columns = ['Time', 'Comp', 'Round', 'Day', 'Venue', 'Result', 'GF', 'GA', 'Opponent', 'xG', 'xGA', 'Poss', 'Attendance', 'Captain', 'Formation', 'Referee', 'Match Report', 'Notes'])"
   ]
  },
  {
   "cell_type": "code",
   "execution_count": 99,
   "metadata": {},
   "outputs": [],
   "source": [
    "matchRaportLinks = tableElement.find_elements(by=By.XPATH, value='/tr[2]/td[17]/a')"
   ]
  },
  {
   "cell_type": "code",
   "execution_count": null,
   "metadata": {},
   "outputs": [],
   "source": [
    "#TODO: ŚCIĄGNĄĆ LINKI DO RAPORTÓW MECZÓW"
   ]
  }
 ],
 "metadata": {
  "kernelspec": {
   "display_name": "Python 3",
   "language": "python",
   "name": "python3"
  },
  "language_info": {
   "codemirror_mode": {
    "name": "ipython",
    "version": 3
   },
   "file_extension": ".py",
   "mimetype": "text/x-python",
   "name": "python",
   "nbconvert_exporter": "python",
   "pygments_lexer": "ipython3",
   "version": "3.10.9"
  },
  "orig_nbformat": 4
 },
 "nbformat": 4,
 "nbformat_minor": 2
}
