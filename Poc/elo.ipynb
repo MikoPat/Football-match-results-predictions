{
 "cells": [
  {
   "cell_type": "code",
   "execution_count": 8,
   "metadata": {},
   "outputs": [],
   "source": [
    "import requests\n",
    "import datetime\n",
    "from datetime import datetime\n",
    "import pandas as pd \n",
    "  \n",
    "url = \"http://api.clubelo.com/crystalpalace\"\n",
    "response = requests.get(url)"
   ]
  },
  {
   "cell_type": "code",
   "execution_count": 16,
   "metadata": {},
   "outputs": [],
   "source": [
    "dataRows = response.text.split('\\n')\n",
    "\n",
    "\n",
    "def noneParser(variable, parseFunc):\n",
    "    if (variable == 'None' or variable == ''):\n",
    "        return None\n",
    "    return parseFunc(variable)\n",
    "\n",
    "def dateParser(variable):\n",
    "    try:\n",
    "        return datetime.datetime.strptime(variable, \"%Y-%m-%d\")\n",
    "    except:\n",
    "        return None\n",
    "\n",
    "def dataFrame(dataRows):\n",
    "\n",
    "    data = []\n",
    "\n",
    "    for row in dataRows[1:]:\n",
    "        if row == '':\n",
    "            continue\n",
    "        columns = row.split(',')\n",
    "        entry = {}\n",
    "        entry['rank'] = noneParser(columns[0], int)\n",
    "        entry['club'] = noneParser(columns[1], str)\n",
    "        entry['country'] = noneParser(columns[2], str)\n",
    "        entry['level'] = noneParser(columns[3], int)\n",
    "        entry['elo'] = noneParser(columns[4], float)\n",
    "        entry['from'] = noneParser(columns[5], str)\n",
    "        entry['to'] = noneParser(columns[6], str)\n",
    "        data.append(entry)\n",
    "\n",
    "    df = pd.DataFrame(data)\n",
    "\n",
    "    return df\n",
    "\n",
    "def get_row(data_meczu, df):\n",
    "    #date_to_check = pd.to_datetime('2023-08-11')\n",
    "    #date_to_check = pd.to_datetime(data_meczu)\n",
    "    #filtered_row = df[(pd.to_datetime(df['from']) <= date_to_check) & (pd.to_datetime(df['to']) >= date_to_check)]\n",
    "\n",
    "    filtered_df = df[(df['from'] <= data_meczu) & (df['to'] >= data_meczu)]\n",
    "\n",
    "    #elo_value = float(filtered_row['elo'])\n",
    "    \n",
    "    return filtered_df\n",
    "\n"
   ]
  },
  {
   "cell_type": "code",
   "execution_count": 17,
   "metadata": {},
   "outputs": [
    {
     "data": {
      "text/html": [
       "<div>\n",
       "<style scoped>\n",
       "    .dataframe tbody tr th:only-of-type {\n",
       "        vertical-align: middle;\n",
       "    }\n",
       "\n",
       "    .dataframe tbody tr th {\n",
       "        vertical-align: top;\n",
       "    }\n",
       "\n",
       "    .dataframe thead th {\n",
       "        text-align: right;\n",
       "    }\n",
       "</style>\n",
       "<table border=\"1\" class=\"dataframe\">\n",
       "  <thead>\n",
       "    <tr style=\"text-align: right;\">\n",
       "      <th></th>\n",
       "      <th>rank</th>\n",
       "      <th>club</th>\n",
       "      <th>country</th>\n",
       "      <th>level</th>\n",
       "      <th>elo</th>\n",
       "      <th>from</th>\n",
       "      <th>to</th>\n",
       "    </tr>\n",
       "  </thead>\n",
       "  <tbody>\n",
       "    <tr>\n",
       "      <th>4537</th>\n",
       "      <td>35.0</td>\n",
       "      <td>Crystal Palace</td>\n",
       "      <td>ENG</td>\n",
       "      <td>1</td>\n",
       "      <td>1739.549316</td>\n",
       "      <td>2023-01-19</td>\n",
       "      <td>2023-01-21</td>\n",
       "    </tr>\n",
       "  </tbody>\n",
       "</table>\n",
       "</div>"
      ],
      "text/plain": [
       "      rank            club country  level          elo        from          to\n",
       "4537  35.0  Crystal Palace     ENG      1  1739.549316  2023-01-19  2023-01-21"
      ]
     },
     "execution_count": 17,
     "metadata": {},
     "output_type": "execute_result"
    }
   ],
   "source": [
    "data_meczu = '2023-01-21'\n",
    "\n",
    "df = dataFrame(dataRows)\n",
    "\n",
    "elo_dane = get_row(data_meczu, df)\n",
    "elo_dane\n"
   ]
  },
  {
   "cell_type": "code",
   "execution_count": 50,
   "metadata": {},
   "outputs": [],
   "source": [
    "# Poc gotowy"
   ]
  },
  {
   "cell_type": "code",
   "execution_count": 54,
   "metadata": {},
   "outputs": [],
   "source": [
    "def get_replacement(club_name, replacement_dict):\n",
    "    return replacement_dict.get(club_name, club_name)\n",
    "\n",
    "\n",
    "positions = {\n",
    "    'Arsenal' : 'Arsenal',\n",
    "    'Aston Villa' : 'Aston Villa',\n",
    "    'Bournemouth' : 'Bournemouth',\n",
    "    'Brentford' : 'Brentford',\n",
    "    'Brighton' : 'Brighton',\n",
    "    'Burnley' : 'Burnley',\n",
    "    'Chelsea' : 'Chelsea',\n",
    "    'Crystal Palace' : 'Crystal Palace',\n",
    "    'Everton' : 'Everton',\n",
    "    'Fulham' : 'Fulham',\n",
    "    'Liverpool' : 'Liverpool',\n",
    "    'Luton Town' : 'Luton',\n",
    "    'Manchester City' : 'Man City',\n",
    "    'Manchester Utd' : 'Man United',\n",
    "    'Newcastle Utd' : 'Newcastle',\n",
    "    \"Nott'ham Forest\" : 'Forest',\n",
    "    'Sheffield Utd ' : 'Sheffield United',\n",
    "    'Tottenham' : 'Tottenham',\n",
    "    'West Ham' : 'West Ham',\n",
    "    'Wolves' : 'Wolves',\n",
    "    'Leicester' : 'Leicester',\n",
    "    'Leeds' : 'Leeds',\n",
    "    'Southampton' : 'Southampton',\n",
    "    'Watford' : 'Watford',\n",
    "    'Norwich' : 'Norwich',\n",
    "    'West Brom' : 'West Brom',\n",
    "    'Stoke' : 'Stoke',\n",
    "    'Swansea' : 'Swansea',\n",
    "    'Cardiff' : 'Cardiff',\n",
    "    'Huddersfield' : 'Huddersfield'\n",
    "}"
   ]
  },
  {
   "cell_type": "code",
   "execution_count": 56,
   "metadata": {},
   "outputs": [
    {
     "name": "stdout",
     "output_type": "stream",
     "text": [
      "http://api.clubelo.com/burnley\n"
     ]
    }
   ],
   "source": [
    "url_elo = \"http://api.clubelo.com/\"\n",
    "\n",
    "c = 'burnley'\n",
    "\n",
    "url_new = url_elo + c\n",
    "\n",
    "print(url_new)"
   ]
  }
 ],
 "metadata": {
  "kernelspec": {
   "display_name": "Python 3",
   "language": "python",
   "name": "python3"
  },
  "language_info": {
   "codemirror_mode": {
    "name": "ipython",
    "version": 3
   },
   "file_extension": ".py",
   "mimetype": "text/x-python",
   "name": "python",
   "nbconvert_exporter": "python",
   "pygments_lexer": "ipython3",
   "version": "3.10.9"
  }
 },
 "nbformat": 4,
 "nbformat_minor": 2
}
