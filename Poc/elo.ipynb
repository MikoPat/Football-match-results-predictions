{
 "cells": [
  {
   "cell_type": "code",
   "execution_count": 15,
   "metadata": {},
   "outputs": [],
   "source": [
    "import requests\n",
    "import datetime\n",
    "from datetime import datetime\n",
    "import pandas as pd \n",
    "  \n",
    "url = \"http://api.clubelo.com/burnley\"\n",
    "response = requests.get(url)"
   ]
  },
  {
   "cell_type": "code",
   "execution_count": 47,
   "metadata": {},
   "outputs": [],
   "source": [
    "dataRows = response.text.split('\\n')\n",
    "\n",
    "\n",
    "def noneParser(variable, parseFunc):\n",
    "    if (variable == 'None' or variable == ''):\n",
    "        return None\n",
    "    return parseFunc(variable)\n",
    "\n",
    "def dateParser(variable):\n",
    "    try:\n",
    "        return datetime.datetime.strptime(variable, \"%Y-%m-%d\")\n",
    "    except:\n",
    "        return None\n",
    "\n",
    "def dataFrame(dataRows):\n",
    "\n",
    "    data = []\n",
    "\n",
    "    for row in dataRows[1:]:\n",
    "        if row == '':\n",
    "            continue\n",
    "        columns = row.split(',')\n",
    "        entry = {}\n",
    "        entry['rank'] = noneParser(columns[0], int)\n",
    "        entry['club'] = noneParser(columns[1], str)\n",
    "        entry['country'] = noneParser(columns[2], str)\n",
    "        entry['level'] = noneParser(columns[3], int)\n",
    "        entry['elo'] = noneParser(columns[4], float)\n",
    "        entry['from'] = noneParser(columns[5], str)\n",
    "        entry['to'] = noneParser(columns[6], str)\n",
    "        data.append(entry)\n",
    "\n",
    "    df = pd.DataFrame(data)\n",
    "\n",
    "    return df\n",
    "\n",
    "def get_row(data_meczu, df):\n",
    "    #date_to_check = pd.to_datetime('2023-08-11')\n",
    "    date_to_check = pd.to_datetime(data_meczu)\n",
    "    filtered_row = df[(pd.to_datetime(df['from']) <= date_to_check) & (pd.to_datetime(df['to']) >= date_to_check)]\n",
    "\n",
    "    elo_value = float(filtered_row['elo'])\n",
    "    \n",
    "    return elo_value\n",
    "\n"
   ]
  },
  {
   "cell_type": "code",
   "execution_count": 49,
   "metadata": {},
   "outputs": [
    {
     "data": {
      "text/plain": [
       "1726.4017334"
      ]
     },
     "execution_count": 49,
     "metadata": {},
     "output_type": "execute_result"
    }
   ],
   "source": [
    "data_meczu = '2023-08-11'\n",
    "\n",
    "df = dataFrame(dataRows)\n",
    "\n",
    "elo_dane = get_row(data_meczu, df)\n",
    "elo_dane\n"
   ]
  },
  {
   "cell_type": "code",
   "execution_count": 50,
   "metadata": {},
   "outputs": [],
   "source": [
    "# Poc gotowy"
   ]
  },
  {
   "cell_type": "code",
   "execution_count": 54,
   "metadata": {},
   "outputs": [],
   "source": [
    "def get_replacement(club_name, replacement_dict):\n",
    "    return replacement_dict.get(club_name, club_name)\n",
    "\n",
    "\n",
    "positions = {\n",
    "    'Arsenal' : 'Arsenal',\n",
    "    'Aston Villa' : 'Aston Villa',\n",
    "    'Bournemouth' : 'Bournemouth',\n",
    "    'Brentford' : 'Brentford',\n",
    "    'Brighton' : 'Brighton',\n",
    "    'Burnley' : 'Burnley',\n",
    "    'Chelsea' : 'Chelsea',\n",
    "    'Crystal Palace' : 'Crystal Palace',\n",
    "    'Everton' : 'Everton',\n",
    "    'Fulham' : 'Fulham',\n",
    "    'Liverpool' : 'Liverpool',\n",
    "    'Luton Town' : 'Luton',\n",
    "    'Manchester City' : 'Man City',\n",
    "    'Manchester Utd' : 'Man United',\n",
    "    'Newcastle Utd' : 'Newcastle',\n",
    "    \"Nott'ham Forest\" : 'Forest',\n",
    "    'Sheffield Utd ' : 'Sheffield United',\n",
    "    'Tottenham' : 'Tottenham',\n",
    "    'West Ham' : 'West Ham',\n",
    "    'Wolves' : 'Wolves',\n",
    "    'Leicester' : 'Leicester',\n",
    "    'Leeds' : 'Leeds',\n",
    "    'Southampton' : 'Southampton',\n",
    "    'Watford' : 'Watford',\n",
    "    'Norwich' : 'Norwich',\n",
    "    'West Brom' : 'West Brom',\n",
    "    'Stoke' : 'Stoke',\n",
    "    'Swansea' : 'Swansea',\n",
    "    'Cardiff' : 'Cardiff',\n",
    "    'Huddersfield' : 'Huddersfield'\n",
    "}"
   ]
  },
  {
   "cell_type": "code",
   "execution_count": 56,
   "metadata": {},
   "outputs": [
    {
     "name": "stdout",
     "output_type": "stream",
     "text": [
      "http://api.clubelo.com/burnley\n"
     ]
    }
   ],
   "source": [
    "url_elo = \"http://api.clubelo.com/\"\n",
    "\n",
    "c = 'burnley'\n",
    "\n",
    "url_new = url_elo + c\n",
    "\n",
    "print(url_new)"
   ]
  }
 ],
 "metadata": {
  "kernelspec": {
   "display_name": "Python 3",
   "language": "python",
   "name": "python3"
  },
  "language_info": {
   "codemirror_mode": {
    "name": "ipython",
    "version": 3
   },
   "file_extension": ".py",
   "mimetype": "text/x-python",
   "name": "python",
   "nbconvert_exporter": "python",
   "pygments_lexer": "ipython3",
   "version": "3.10.9"
  }
 },
 "nbformat": 4,
 "nbformat_minor": 2
}
