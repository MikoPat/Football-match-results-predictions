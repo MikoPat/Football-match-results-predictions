{
 "cells": [
  {
   "cell_type": "code",
   "execution_count": 1,
   "metadata": {},
   "outputs": [],
   "source": [
    "def get_replacement(club_name):\n",
    "\n",
    "    replacments_club_names = {\n",
    "            'Arsenal' : 'Arsenal',\n",
    "            'Aston Villa' : 'Aston Villa',\n",
    "            'Bournemouth' : 'Bournemouth',\n",
    "            'Brentford' : 'Brentford',\n",
    "            'Brighton' : 'Brighton',\n",
    "            'Brighton &amp; Hove Albion' : 'Brighton',\n",
    "            'Burnley' : 'Burnley',\n",
    "            'Chelsea' : 'Chelsea',\n",
    "            'Crystal Palace' : 'Crystal Palace',\n",
    "            'Everton' : 'Everton',\n",
    "            'Fulham' : 'Fulham',\n",
    "            'Liverpool' : 'Liverpool',\n",
    "            'Luton Town' : 'Luton',\n",
    "            'Manchester City' : 'Man City',\n",
    "            'Manchester Utd' : 'Man United',\n",
    "            'Manchester United' : 'Man United',\n",
    "            'Newcastle Utd' : 'Newcastle',\n",
    "            'Newcastle United' : 'Newcastle',\n",
    "            \"Nott'ham Forest\" : 'Forest',\n",
    "            'Nottingham Forest' : 'Forest',\n",
    "            'Sheffield Utd ' : 'Sheffield United',\n",
    "            'Sheffield United' : 'Sheffield United',\n",
    "            'Tottenham' : 'Tottenham',\n",
    "            'Tottenham Hotspur' : 'Tottenham',\n",
    "            'West Ham' : 'West Ham',\n",
    "            'West Ham United' : 'West Ham',\n",
    "            'Wolves' : 'Wolves',\n",
    "            'Wolverhampton Wanderers' : 'Wolves',\n",
    "            'Leicester' : 'Leicester',\n",
    "            'Leicester City' : 'Leicester',\n",
    "            'Leeds' : 'Leeds',\n",
    "            'Leeds United' : 'Leeds',\n",
    "            'Southampton' : 'Southampton',\n",
    "            'Watford' : 'Watford',\n",
    "            'Norwich' : 'Norwich',\n",
    "            'Norwich City' : 'Norwich',\n",
    "            'West Brom' : 'West Brom',\n",
    "            'West Bromwich Albion' : 'West Brom',\n",
    "            'Stoke' : 'Stoke',\n",
    "            'Stoke City' : 'Stoke',\n",
    "            'Swansea' : 'Swansea',\n",
    "            'Swansea City' : 'Swansea', \n",
    "            'Cardiff' : 'Cardiff',\n",
    "            'Cardiff City' : 'Cardiff',\n",
    "            'Huddersfield' : 'Huddersfield',\n",
    "            'Huddersfield Town' : 'Huddersfield',\n",
    "            'Bayern Munich' : 'Bayern',\n",
    "            'Dortmund' : 'Dortmund',\n",
    "            'RB Lipzig' : 'RB Lipzig',\n",
    "            'Union Berlin' : 'Union Berlin',\n",
    "            'Frieburg' : 'Frieburg',\n",
    "            'Leverkusen' : 'Leverkusen',\n",
    "            'Bayer Leverkusen' : 'Leverkusen',\n",
    "            'Eint Frankfurt' : 'Frankfurt',\n",
    "            'Eintracht Frankfurt' : 'Frankfurt',\n",
    "            'Wolfsburg' : 'Wolfsburg',\n",
    "            'Mainz 05' : 'Mainz',\n",
    "            \"M'Gladbach\" : 'Gladbach',\n",
    "            'Mönchengladbach' : 'Gladbach',\n",
    "            'Köln' : 'Koeln',\n",
    "            'Hoffenheim' : 'Hoffenheim',\n",
    "            'Werder Bremen' : 'Werder',\n",
    "            'Bochum' : 'Bochum',\n",
    "            'Augsburg' : 'Augsburg',\n",
    "            'Stuttgart' : 'Stuttgart',\n",
    "            'Schalke 04' : 'Schalke',\n",
    "            'Hertha BSC' : 'Hertha',\n",
    "            'Armenia' : 'Bielefeld',\n",
    "            'Greuther Fürth' : 'Fuerth',\n",
    "            'Düsseldorf' : 'Düsseldorf',\n",
    "            'Paderborn 07' : 'Paderborn',\n",
    "            'Hannover 96' : 'Hannover',\n",
    "            'Nürnberg' : 'Nürnberg',\n",
    "            'Hamburger SV' : 'Hamburg',\n",
    "            'Heidenheim' : 'Heidenheim'\n",
    "    }\n",
    "\n",
    "    return replacments_club_names.get(club_name, club_name)"
   ]
  },
  {
   "cell_type": "code",
   "execution_count": 3,
   "metadata": {},
   "outputs": [
    {
     "name": "stdout",
     "output_type": "stream",
     "text": [
      "bielefeld\n"
     ]
    }
   ],
   "source": [
    "print(get_replacement('Armenia').lower().replace(\" \", \"\"))"
   ]
  }
 ],
 "metadata": {
  "kernelspec": {
   "display_name": "Python 3",
   "language": "python",
   "name": "python3"
  },
  "language_info": {
   "codemirror_mode": {
    "name": "ipython",
    "version": 3
   },
   "file_extension": ".py",
   "mimetype": "text/x-python",
   "name": "python",
   "nbconvert_exporter": "python",
   "pygments_lexer": "ipython3",
   "version": "3.10.9"
  }
 },
 "nbformat": 4,
 "nbformat_minor": 2
}
