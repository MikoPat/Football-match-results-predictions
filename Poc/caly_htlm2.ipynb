{
 "cells": [
  {
   "cell_type": "code",
   "execution_count": 13,
   "metadata": {},
   "outputs": [],
   "source": [
    "from selenium import webdriver\n",
    "from selenium.webdriver.chrome.service import Service\n",
    "from selenium.webdriver.chrome.webdriver import WebDriver\n",
    "from webdriver_manager.chrome import ChromeDriverManager\n",
    "from selenium.webdriver.common.by import By\n",
    "from selenium.webdriver.support.ui import WebDriverWait\n",
    "import pandas as pd \n",
    "import re"
   ]
  },
  {
   "cell_type": "code",
   "execution_count": 14,
   "metadata": {},
   "outputs": [],
   "source": [
    "def team_data(lista, nazwa, data_for_dataframe):\n",
    "\n",
    "    pattern = r'data-stat=\"([^\"]+)\">([^<]+)'\n",
    "\n",
    "    matches = re.findall(pattern, lista)\n",
    "\n",
    "    for match in matches:\n",
    "        data_type, value = match\n",
    "        data_for_dataframe[nazwa +data_type] = value\n"
   ]
  },
  {
   "cell_type": "code",
   "execution_count": 15,
   "metadata": {},
   "outputs": [],
   "source": [
    "def getMatchDate(page_source):\n",
    "    date_of_match = re.findall(r'data-venue-date=([^ ]+)', page_source)\n",
    "    date_of_match = date_of_match[0].replace('\"', '')\n",
    "\n",
    "    return date_of_match"
   ]
  },
  {
   "cell_type": "code",
   "execution_count": 16,
   "metadata": {},
   "outputs": [],
   "source": [
    "def getMatchTime(page_source):\n",
    "    game_time = re.findall(r'data-venue-time=([^ ]+)', page_source)\n",
    "    game_time = game_time[0].replace('\"', '')\n",
    "\n",
    "    return game_time"
   ]
  },
  {
   "cell_type": "code",
   "execution_count": 17,
   "metadata": {},
   "outputs": [],
   "source": [
    "def getClubsNames(page_source):\n",
    "    teams = re.findall(r'<h1>.*Match', page_source)\n",
    "    teams = teams[0].replace(' Match', '')\n",
    "    teams = teams.replace('<h1>','')\n",
    "\n",
    "    teams_names = teams.split(\" vs. \")\n",
    "\n",
    "    return teams_names"
   ]
  },
  {
   "cell_type": "code",
   "execution_count": 18,
   "metadata": {},
   "outputs": [],
   "source": [
    "\n",
    "def getData(page_source):\n",
    "\n",
    "    data_for_dataframe = {}\n",
    "\n",
    "    data = re.findall(\"<tfoot>.*<\\/tfoot>\", page_source)\n",
    "\n",
    "    home_team = data[0:6]\n",
    "    away_team = data[6:12]\n",
    "\n",
    "\n",
    "    home_team_summary = home_team[0]\n",
    "    home_team_passes = home_team[1]\n",
    "    home_team_pass_type = home_team[2]\n",
    "    home_team_defensive = home_team[3]\n",
    "    home_team_possesion = home_team[4]\n",
    "    home_team_miscellaneous = home_team[5]\n",
    "\n",
    "    away_team_summary = away_team[0]\n",
    "    away_team_passes = away_team[1]\n",
    "    away_team_pass_type = away_team[2]\n",
    "    away_team_defensive = away_team[3]\n",
    "    away_team_possesion = away_team[4]\n",
    "    away_team_miscellaneous = away_team[5]\n",
    "\n",
    "    team_data(home_team_summary, 'home_team_summary_', data_for_dataframe)\n",
    "    team_data(home_team_passes, 'home_team_passes_', data_for_dataframe)\n",
    "    team_data(home_team_pass_type, 'home_team_pass_type_', data_for_dataframe)\n",
    "    team_data(home_team_defensive, 'home_team_defensive_', data_for_dataframe)\n",
    "    team_data(home_team_possesion, 'home_team_possesion_', data_for_dataframe)\n",
    "    team_data(home_team_miscellaneous, 'home_team_miscellaneous_', data_for_dataframe)\n",
    "\n",
    "    team_data(away_team_summary, 'away_team_summary_', data_for_dataframe)\n",
    "    team_data(away_team_passes, 'away_team_passes_', data_for_dataframe)\n",
    "    team_data(away_team_pass_type, 'away_team_pass_type_', data_for_dataframe)\n",
    "    team_data(away_team_defensive, 'away_team_defensive_', data_for_dataframe)\n",
    "    team_data(away_team_possesion, 'away_team_possesion_', data_for_dataframe)\n",
    "    team_data(away_team_miscellaneous, 'away_team_miscellaneous_', data_for_dataframe)\n",
    "\n",
    "    df = pd.DataFrame.from_dict(data_for_dataframe, orient ='index')\n",
    "\n",
    "    df = df.T\n",
    "\n",
    "    df['game_date'] = getMatchDate(page_source)\n",
    "    df['game_time'] = getMatchTime(page_source)\n",
    "\n",
    "    teams_names = getClubsNames(page_source)\n",
    "\n",
    "    df['home_team'] = teams_names[0]\n",
    "    df['away_team'] = teams_names[1]\n",
    "\n",
    "    return df"
   ]
  },
  {
   "cell_type": "code",
   "execution_count": 7,
   "metadata": {},
   "outputs": [],
   "source": [
    "def getDataFromPage(url):\n",
    "\n",
    "    driver = webdriver.Chrome(executable_path='/Users/mikolajpaterka/local/bin/chromedriver')\n",
    "\n",
    "    driver.get(url)\n",
    "\n",
    "    page_source = driver.page_source\n",
    "\n",
    "    driver.quit()\n",
    "\n",
    "    return page_source"
   ]
  },
  {
   "cell_type": "code",
   "execution_count": 11,
   "metadata": {},
   "outputs": [
    {
     "name": "stderr",
     "output_type": "stream",
     "text": [
      "/var/folders/_h/ljwht4gd7lb99rm1hm78h7_00000gn/T/ipykernel_51259/274481876.py:3: DeprecationWarning: executable_path has been deprecated, please pass in a Service object\n",
      "  driver = webdriver.Chrome(executable_path='/Users/mikolajpaterka/local/bin/chromedriver')\n"
     ]
    }
   ],
   "source": [
    "main_urls = ['https://fbref.com/en/comps/20/2021-2022/schedule/2021-2022-Bundesliga-Scores-and-Fixtures']\n",
    "    \n",
    "for main_url in main_urls:\n",
    "    print(main_url)\n",
    "\n",
    "    data = getDataFromPage(main_url)\n",
    "    dataframe = getData(data)\n"
   ]
  },
  {
   "cell_type": "code",
   "execution_count": 12,
   "metadata": {},
   "outputs": [
    {
     "data": {
      "text/html": [
       "<div>\n",
       "<style scoped>\n",
       "    .dataframe tbody tr th:only-of-type {\n",
       "        vertical-align: middle;\n",
       "    }\n",
       "\n",
       "    .dataframe tbody tr th {\n",
       "        vertical-align: top;\n",
       "    }\n",
       "\n",
       "    .dataframe thead th {\n",
       "        text-align: right;\n",
       "    }\n",
       "</style>\n",
       "<table border=\"1\" class=\"dataframe\">\n",
       "  <thead>\n",
       "    <tr style=\"text-align: right;\">\n",
       "      <th></th>\n",
       "      <th>home_team_summary_player</th>\n",
       "      <th>home_team_summary_minutes</th>\n",
       "      <th>home_team_summary_goals</th>\n",
       "      <th>home_team_summary_assists</th>\n",
       "      <th>home_team_summary_pens_made</th>\n",
       "      <th>home_team_summary_pens_att</th>\n",
       "      <th>home_team_summary_shots</th>\n",
       "      <th>home_team_summary_shots_on_target</th>\n",
       "      <th>home_team_summary_cards_yellow</th>\n",
       "      <th>home_team_summary_cards_red</th>\n",
       "      <th>...</th>\n",
       "      <th>away_team_miscellaneous_pens_conceded</th>\n",
       "      <th>away_team_miscellaneous_own_goals</th>\n",
       "      <th>away_team_miscellaneous_ball_recoveries</th>\n",
       "      <th>away_team_miscellaneous_aerials_won</th>\n",
       "      <th>away_team_miscellaneous_aerials_lost</th>\n",
       "      <th>away_team_miscellaneous_aerials_won_pct</th>\n",
       "      <th>game_date</th>\n",
       "      <th>game_time</th>\n",
       "      <th>home_team</th>\n",
       "      <th>away_team</th>\n",
       "    </tr>\n",
       "  </thead>\n",
       "  <tbody>\n",
       "    <tr>\n",
       "      <th>0</th>\n",
       "      <td>16 Players</td>\n",
       "      <td>990</td>\n",
       "      <td>1</td>\n",
       "      <td>0</td>\n",
       "      <td>0</td>\n",
       "      <td>0</td>\n",
       "      <td>8</td>\n",
       "      <td>2</td>\n",
       "      <td>2</td>\n",
       "      <td>0</td>\n",
       "      <td>...</td>\n",
       "      <td>0</td>\n",
       "      <td>0</td>\n",
       "      <td>62</td>\n",
       "      <td>3</td>\n",
       "      <td>6</td>\n",
       "      <td>33.3</td>\n",
       "      <td>2022-08-05</td>\n",
       "      <td>20:30</td>\n",
       "      <td>Eintracht Frankfurt</td>\n",
       "      <td>Bayern Munich</td>\n",
       "    </tr>\n",
       "  </tbody>\n",
       "</table>\n",
       "<p>1 rows × 260 columns</p>\n",
       "</div>"
      ],
      "text/plain": [
       "  home_team_summary_player home_team_summary_minutes home_team_summary_goals  \\\n",
       "0               16 Players                       990                       1   \n",
       "\n",
       "  home_team_summary_assists home_team_summary_pens_made  \\\n",
       "0                         0                           0   \n",
       "\n",
       "  home_team_summary_pens_att home_team_summary_shots  \\\n",
       "0                          0                       8   \n",
       "\n",
       "  home_team_summary_shots_on_target home_team_summary_cards_yellow  \\\n",
       "0                                 2                              2   \n",
       "\n",
       "  home_team_summary_cards_red  ... away_team_miscellaneous_pens_conceded  \\\n",
       "0                           0  ...                                     0   \n",
       "\n",
       "  away_team_miscellaneous_own_goals away_team_miscellaneous_ball_recoveries  \\\n",
       "0                                 0                                      62   \n",
       "\n",
       "  away_team_miscellaneous_aerials_won away_team_miscellaneous_aerials_lost  \\\n",
       "0                                   3                                    6   \n",
       "\n",
       "  away_team_miscellaneous_aerials_won_pct   game_date game_time  \\\n",
       "0                                    33.3  2022-08-05     20:30   \n",
       "\n",
       "             home_team      away_team  \n",
       "0  Eintracht Frankfurt  Bayern Munich  \n",
       "\n",
       "[1 rows x 260 columns]"
      ]
     },
     "execution_count": 12,
     "metadata": {},
     "output_type": "execute_result"
    }
   ],
   "source": [
    "dataframe"
   ]
  }
 ],
 "metadata": {
  "kernelspec": {
   "display_name": "Python 3",
   "language": "python",
   "name": "python3"
  },
  "language_info": {
   "codemirror_mode": {
    "name": "ipython",
    "version": 3
   },
   "file_extension": ".py",
   "mimetype": "text/x-python",
   "name": "python",
   "nbconvert_exporter": "python",
   "pygments_lexer": "ipython3",
   "version": "3.10.9"
  }
 },
 "nbformat": 4,
 "nbformat_minor": 2
}
