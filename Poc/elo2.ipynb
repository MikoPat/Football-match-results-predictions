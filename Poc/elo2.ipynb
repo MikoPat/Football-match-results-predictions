{
 "cells": [
  {
   "cell_type": "code",
   "execution_count": 1,
   "metadata": {},
   "outputs": [],
   "source": [
    "import requests\n",
    "import datetime\n",
    "from datetime import datetime\n",
    "import pandas as pd "
   ]
  },
  {
   "cell_type": "code",
   "execution_count": 2,
   "metadata": {},
   "outputs": [],
   "source": [
    "positions = {\n",
    "    'Arsenal' : 'Arsenal',\n",
    "    'Aston Villa' : 'Aston Villa',\n",
    "    'Bournemouth' : 'Bournemouth',\n",
    "    'Brentford' : 'Brentford',\n",
    "    'Brighton' : 'Brighton',\n",
    "    'Burnley' : 'Burnley',\n",
    "    'Chelsea' : 'Chelsea',\n",
    "    'Crystal Palace' : 'Crystal Palace',\n",
    "    'Everton' : 'Everton',\n",
    "    'Fulham' : 'Fulham',\n",
    "    'Liverpool' : 'Liverpool',\n",
    "    'Luton Town' : 'Luton',\n",
    "    'Manchester City' : 'Man City',\n",
    "    'Manchester Utd' : 'Man United',\n",
    "    'Newcastle Utd' : 'Newcastle',\n",
    "    \"Nott'ham Forest\" : 'Forest',\n",
    "    'Sheffield Utd ' : 'Sheffield United',\n",
    "    'Tottenham' : 'Tottenham',\n",
    "    'West Ham' : 'West Ham',\n",
    "    'Wolves' : 'Wolves',\n",
    "    'Leicester' : 'Leicester',\n",
    "    'Leeds' : 'Leeds',\n",
    "    'Southampton' : 'Southampton',\n",
    "    'Watford' : 'Watford',\n",
    "    'Norwich' : 'Norwich',\n",
    "    'West Brom' : 'West Brom',\n",
    "    'Stoke' : 'Stoke',\n",
    "    'Swansea' : 'Swansea',\n",
    "    'Cardiff' : 'Cardiff',\n",
    "    'Huddersfield' : 'Huddersfield'\n",
    "}"
   ]
  },
  {
   "cell_type": "code",
   "execution_count": 3,
   "metadata": {},
   "outputs": [],
   "source": [
    "def get_replacement(club_name, replacement_dict):\n",
    "    return replacement_dict.get(club_name, club_name)"
   ]
  },
  {
   "cell_type": "code",
   "execution_count": 4,
   "metadata": {},
   "outputs": [],
   "source": [
    "def noneParser(variable, parseFunc):\n",
    "    if (variable == 'None' or variable == ''):\n",
    "        return None\n",
    "    return parseFunc(variable)"
   ]
  },
  {
   "cell_type": "code",
   "execution_count": 5,
   "metadata": {},
   "outputs": [],
   "source": [
    "def dateParser(variable):\n",
    "    try:\n",
    "        return datetime.datetime.strptime(variable, \"%Y-%m-%d\")\n",
    "    except:\n",
    "        return None"
   ]
  },
  {
   "cell_type": "code",
   "execution_count": 6,
   "metadata": {},
   "outputs": [],
   "source": [
    "def dataFrame(dataRows):\n",
    "\n",
    "    data = []\n",
    "\n",
    "    for row in dataRows[1:]:\n",
    "        if row == '':\n",
    "            continue\n",
    "        columns = row.split(',')\n",
    "        entry = {}\n",
    "        entry['rank'] = noneParser(columns[0], int)\n",
    "        entry['club'] = noneParser(columns[1], str)\n",
    "        entry['country'] = noneParser(columns[2], str)\n",
    "        entry['level'] = noneParser(columns[3], int)\n",
    "        entry['elo'] = noneParser(columns[4], float)\n",
    "        entry['from'] = noneParser(columns[5], str)\n",
    "        entry['to'] = noneParser(columns[6], str)\n",
    "        data.append(entry)\n",
    "\n",
    "    df = pd.DataFrame(data)\n",
    "\n",
    "    return df"
   ]
  },
  {
   "cell_type": "code",
   "execution_count": 7,
   "metadata": {},
   "outputs": [],
   "source": [
    "def get_row(match_date, df):\n",
    "    #date_to_check = pd.to_datetime('2023-08-11')\n",
    "    date_to_check = pd.to_datetime(match_date)\n",
    "    filtered_row = df[(pd.to_datetime(df['from']) <= date_to_check) & (pd.to_datetime(df['to']) >= date_to_check)]\n",
    "\n",
    "    elo_value = float(filtered_row['elo'])\n",
    "    \n",
    "    return elo_value"
   ]
  },
  {
   "cell_type": "markdown",
   "metadata": {},
   "source": [
    "### -----------------------"
   ]
  },
  {
   "cell_type": "code",
   "execution_count": 20,
   "metadata": {},
   "outputs": [],
   "source": [
    "def getElo(club_name, match_date, replacement_dict):\n",
    "\n",
    "    replacement_club_name = get_replacement(club_name, replacement_dict).lower()\n",
    "\n",
    "\n",
    "    url_elo = \"http://api.clubelo.com/\"\n",
    "    url = url_elo + replacement_club_name\n",
    "\n",
    "    response = requests.get(url)\n",
    "\n",
    "    dataRows = response.text.split('\\n')\n",
    "\n",
    "    df = dataFrame(dataRows)\n",
    "\n",
    "    elo_ranking_vlaue = get_row(match_date, df)\n",
    "\n",
    "    return elo_ranking_vlaue"
   ]
  },
  {
   "cell_type": "code",
   "execution_count": 21,
   "metadata": {},
   "outputs": [
    {
     "name": "stdout",
     "output_type": "stream",
     "text": [
      "1726.4017334\n"
     ]
    }
   ],
   "source": [
    "club_name = \"Burnley\"\n",
    "match_date = '2023-08-11'\n",
    "\n",
    "print(getElo(club_name, match_date, positions))"
   ]
  }
 ],
 "metadata": {
  "kernelspec": {
   "display_name": "Python 3",
   "language": "python",
   "name": "python3"
  },
  "language_info": {
   "codemirror_mode": {
    "name": "ipython",
    "version": 3
   },
   "file_extension": ".py",
   "mimetype": "text/x-python",
   "name": "python",
   "nbconvert_exporter": "python",
   "pygments_lexer": "ipython3",
   "version": "3.0.0"
  }
 },
 "nbformat": 4,
 "nbformat_minor": 2
}
