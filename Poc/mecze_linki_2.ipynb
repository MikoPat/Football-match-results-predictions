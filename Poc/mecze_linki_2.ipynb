{
 "cells": [
  {
   "cell_type": "code",
   "execution_count": 1,
   "metadata": {},
   "outputs": [],
   "source": [
    "from selenium import webdriver\n",
    "from selenium.webdriver.chrome.service import Service\n",
    "from selenium.webdriver.chrome.webdriver import WebDriver\n",
    "from webdriver_manager.chrome import ChromeDriverManager\n",
    "from selenium.webdriver.common.by import By\n",
    "from selenium.webdriver.support.ui import WebDriverWait\n",
    "import pandas as pd \n",
    "import re"
   ]
  },
  {
   "cell_type": "code",
   "execution_count": 2,
   "metadata": {},
   "outputs": [],
   "source": [
    "def getDataFromPage(url):\n",
    "\n",
    "    op = webdriver.ChromeOptions()\n",
    "    op.add_argument('headless')\n",
    "\n",
    "    driver = webdriver.Chrome(executable_path='/Users/mikolajpaterka/local/bin/chromedriver', options=op)\n",
    "    driver.get(url)\n",
    "\n",
    "    page_source = driver.page_source\n",
    "\n",
    "    driver.quit()\n",
    "\n",
    "    return page_source"
   ]
  },
  {
   "cell_type": "code",
   "execution_count": 3,
   "metadata": {},
   "outputs": [],
   "source": [
    "def getData(page_source):\n",
    "    links_from_table = re.findall(r'data-stat=\"match_report\"><([^<]+)', page_source)\n",
    "\n",
    "    cleaned_list = [item for item in links_from_table if '/td>' not in item and 'Head-to-Head' not in item]\n",
    "    cleaned_list_final = ['https://fbref.com/' + item.replace('a href=\"', '').replace('\">Match Report', '') for item in cleaned_list]\n",
    "\n",
    "    return cleaned_list_final"
   ]
  },
  {
   "cell_type": "code",
   "execution_count": 4,
   "metadata": {},
   "outputs": [],
   "source": [
    "def singleMatchData(url):\n",
    "\n",
    "    data = getDataFromPage(url)\n",
    "    list_of_links = getData(data)\n",
    "\n",
    "    return list_of_links"
   ]
  },
  {
   "cell_type": "code",
   "execution_count": 5,
   "metadata": {},
   "outputs": [
    {
     "name": "stderr",
     "output_type": "stream",
     "text": [
      "/var/folders/_h/ljwht4gd7lb99rm1hm78h7_00000gn/T/ipykernel_93192/1606866025.py:6: DeprecationWarning: executable_path has been deprecated, please pass in a Service object\n",
      "  driver = webdriver.Chrome(executable_path='/Users/mikolajpaterka/local/bin/chromedriver', options=op)\n"
     ]
    },
    {
     "name": "stdout",
     "output_type": "stream",
     "text": [
      "['https://fbref.com//en/matches/3a6836b4/Burnley-Manchester-City-August-11-2023-Premier-League', 'https://fbref.com//en/matches/26a7f90c/Arsenal-Nottingham-Forest-August-12-2023-Premier-League', 'https://fbref.com//en/matches/15addfc7/Everton-Fulham-August-12-2023-Premier-League', 'https://fbref.com//en/matches/55fd92c7/Sheffield-United-Crystal-Palace-August-12-2023-Premier-League', 'https://fbref.com//en/matches/56a137f7/Brighton-and-Hove-Albion-Luton-Town-August-12-2023-Premier-League', 'https://fbref.com//en/matches/d6bbf293/Bournemouth-West-Ham-United-August-12-2023-Premier-League', 'https://fbref.com//en/matches/8ff2f8fe/Newcastle-United-Aston-Villa-August-12-2023-Premier-League', 'https://fbref.com//en/matches/67ed3ba2/Brentford-Tottenham-Hotspur-August-13-2023-Premier-League', 'https://fbref.com//en/matches/c18d3207/Chelsea-Liverpool-August-13-2023-Premier-League', 'https://fbref.com//en/matches/f1ecda2c/Manchester-United-Wolverhampton-Wanderers-August-14-2023-Premier-League', 'https://fbref.com//en/matches/a0a93f71/Nottingham-Forest-Sheffield-United-August-18-2023-Premier-League', 'https://fbref.com//en/matches/46be83af/Fulham-Brentford-August-19-2023-Premier-League', 'https://fbref.com//en/matches/80bebdbb/Liverpool-Bournemouth-August-19-2023-Premier-League', 'https://fbref.com//en/matches/d7c606ec/Wolverhampton-Wanderers-Brighton-and-Hove-Albion-August-19-2023-Premier-League', 'https://fbref.com//en/matches/4bb62251/Tottenham-Hotspur-Manchester-United-August-19-2023-Premier-League', 'https://fbref.com//en/matches/0b8f50a5/Manchester-City-Newcastle-United-August-19-2023-Premier-League', 'https://fbref.com//en/matches/959b558d/Aston-Villa-Everton-August-20-2023-Premier-League', 'https://fbref.com//en/matches/44b9a07c/West-Ham-United-Chelsea-August-20-2023-Premier-League', 'https://fbref.com//en/matches/3b5ecd36/Crystal-Palace-Arsenal-August-21-2023-Premier-League', 'https://fbref.com//en/matches/6bfb9dc0/Chelsea-Luton-Town-August-25-2023-Premier-League', 'https://fbref.com//en/matches/f49c4ad2/Bournemouth-Tottenham-Hotspur-August-26-2023-Premier-League', 'https://fbref.com//en/matches/18dfee28/Everton-Wolverhampton-Wanderers-August-26-2023-Premier-League', 'https://fbref.com//en/matches/537b2b0b/Brentford-Crystal-Palace-August-26-2023-Premier-League', 'https://fbref.com//en/matches/70d9b1ab/Manchester-United-Nottingham-Forest-August-26-2023-Premier-League', 'https://fbref.com//en/matches/d8f8f8ad/Arsenal-Fulham-August-26-2023-Premier-League', 'https://fbref.com//en/matches/ba68d60c/Brighton-and-Hove-Albion-West-Ham-United-August-26-2023-Premier-League', 'https://fbref.com//en/matches/0844ff10/Sheffield-United-Manchester-City-August-27-2023-Premier-League', 'https://fbref.com//en/matches/b66a7def/Burnley-Aston-Villa-August-27-2023-Premier-League', 'https://fbref.com//en/matches/b31156ab/Newcastle-United-Liverpool-August-27-2023-Premier-League', 'https://fbref.com//en/matches/e929e225/Luton-Town-West-Ham-United-September-1-2023-Premier-League', 'https://fbref.com//en/matches/87b46bb9/Sheffield-United-Everton-September-2-2023-Premier-League', 'https://fbref.com//en/matches/44e89d37/Chelsea-Nottingham-Forest-September-2-2023-Premier-League', 'https://fbref.com//en/matches/88066bdf/Manchester-City-Fulham-September-2-2023-Premier-League', 'https://fbref.com//en/matches/e2946b10/Brentford-Bournemouth-September-2-2023-Premier-League', 'https://fbref.com//en/matches/f1786fb8/Burnley-Tottenham-Hotspur-September-2-2023-Premier-League', 'https://fbref.com//en/matches/4f754e0a/Brighton-and-Hove-Albion-Newcastle-United-September-2-2023-Premier-League', 'https://fbref.com//en/matches/bdbc722e/Liverpool-Aston-Villa-September-3-2023-Premier-League', 'https://fbref.com//en/matches/f9436d32/Crystal-Palace-Wolverhampton-Wanderers-September-3-2023-Premier-League', 'https://fbref.com//en/matches/74125d47/Arsenal-Manchester-United-September-3-2023-Premier-League', 'https://fbref.com//en/matches/38daebd2/Wolverhampton-Wanderers-Liverpool-September-16-2023-Premier-League', 'https://fbref.com//en/matches/48b1bdc7/Fulham-Luton-Town-September-16-2023-Premier-League', 'https://fbref.com//en/matches/64c0a6e2/West-Ham-United-Manchester-City-September-16-2023-Premier-League', 'https://fbref.com//en/matches/bc77340e/Aston-Villa-Crystal-Palace-September-16-2023-Premier-League', 'https://fbref.com//en/matches/ddcf2857/Manchester-United-Brighton-and-Hove-Albion-September-16-2023-Premier-League', 'https://fbref.com//en/matches/e56e96e1/Tottenham-Hotspur-Sheffield-United-September-16-2023-Premier-League', 'https://fbref.com//en/matches/71b7e5e2/Newcastle-United-Brentford-September-16-2023-Premier-League', 'https://fbref.com//en/matches/be0cbf88/Bournemouth-Chelsea-September-17-2023-Premier-League', 'https://fbref.com//en/matches/b1278924/Everton-Arsenal-September-17-2023-Premier-League', 'https://fbref.com//en/matches/ad7ecfad/Nottingham-Forest-Burnley-September-18-2023-Premier-League', 'https://fbref.com//en/matches/5dc7e234/Manchester-City-Nottingham-Forest-September-23-2023-Premier-League', 'https://fbref.com//en/matches/76a1421e/Luton-Town-Wolverhampton-Wanderers-September-23-2023-Premier-League', 'https://fbref.com//en/matches/cf0b2b19/Crystal-Palace-Fulham-September-23-2023-Premier-League', 'https://fbref.com//en/matches/96681b93/Brentford-Everton-September-23-2023-Premier-League', 'https://fbref.com//en/matches/8e26793d/Burnley-Manchester-United-September-23-2023-Premier-League', 'https://fbref.com//en/matches/08947a10/North-London-Derby-Arsenal-Tottenham-Hotspur-September-24-2023-Premier-League', 'https://fbref.com//en/matches/5593f16c/Brighton-and-Hove-Albion-Bournemouth-September-24-2023-Premier-League', 'https://fbref.com//en/matches/7d2c5e05/Chelsea-Aston-Villa-September-24-2023-Premier-League', 'https://fbref.com//en/matches/90adf8b3/Liverpool-West-Ham-United-September-24-2023-Premier-League', 'https://fbref.com//en/matches/cf4fef85/Sheffield-United-Newcastle-United-September-24-2023-Premier-League', 'https://fbref.com//en/matches/2df9a3a1/Aston-Villa-Brighton-and-Hove-Albion-September-30-2023-Premier-League', 'https://fbref.com//en/matches/60ce29cd/Wolverhampton-Wanderers-Manchester-City-September-30-2023-Premier-League', 'https://fbref.com//en/matches/8de4aca0/Bournemouth-Arsenal-September-30-2023-Premier-League', 'https://fbref.com//en/matches/921d5f17/Everton-Luton-Town-September-30-2023-Premier-League', 'https://fbref.com//en/matches/a79ff136/Newcastle-United-Burnley-September-30-2023-Premier-League', 'https://fbref.com//en/matches/b82be6d7/West-Ham-United-Sheffield-United-September-30-2023-Premier-League', 'https://fbref.com//en/matches/ef2b7ab9/Manchester-United-Crystal-Palace-September-30-2023-Premier-League', 'https://fbref.com//en/matches/ec4145b4/Tottenham-Hotspur-Liverpool-September-30-2023-Premier-League', 'https://fbref.com//en/matches/923467c5/Nottingham-Forest-Brentford-October-1-2023-Premier-League', 'https://fbref.com//en/matches/c9787e60/Fulham-Chelsea-October-2-2023-Premier-League', 'https://fbref.com//en/matches/4f7b3f27/Luton-Town-Burnley-October-3-2023-Premier-League', 'https://fbref.com//en/matches/d021f28f/Luton-Town-Tottenham-Hotspur-October-7-2023-Premier-League', 'https://fbref.com//en/matches/497b9558/Everton-Bournemouth-October-7-2023-Premier-League', 'https://fbref.com//en/matches/5006142a/Manchester-United-Brentford-October-7-2023-Premier-League', 'https://fbref.com//en/matches/cfd83ca3/Burnley-Chelsea-October-7-2023-Premier-League', 'https://fbref.com//en/matches/ffc59ea8/Fulham-Sheffield-United-October-7-2023-Premier-League', 'https://fbref.com//en/matches/1828106c/Crystal-Palace-Nottingham-Forest-October-7-2023-Premier-League', 'https://fbref.com//en/matches/017c9ca5/West-Ham-United-Newcastle-United-October-8-2023-Premier-League', 'https://fbref.com//en/matches/3292ed35/Wolverhampton-Wanderers-Aston-Villa-October-8-2023-Premier-League', 'https://fbref.com//en/matches/3b1ec657/Brighton-and-Hove-Albion-Liverpool-October-8-2023-Premier-League', 'https://fbref.com//en/matches/59cd18ae/Arsenal-Manchester-City-October-8-2023-Premier-League', 'https://fbref.com//en/matches/e747ddb3/Merseyside-Derby-Liverpool-Everton-October-21-2023-Premier-League', 'https://fbref.com//en/matches/007b352e/Bournemouth-Wolverhampton-Wanderers-October-21-2023-Premier-League', 'https://fbref.com//en/matches/21625dde/Newcastle-United-Crystal-Palace-October-21-2023-Premier-League', 'https://fbref.com//en/matches/52781f37/Brentford-Burnley-October-21-2023-Premier-League', 'https://fbref.com//en/matches/b782a834/Manchester-City-Brighton-and-Hove-Albion-October-21-2023-Premier-League', 'https://fbref.com//en/matches/d1671efa/Nottingham-Forest-Luton-Town-October-21-2023-Premier-League', 'https://fbref.com//en/matches/a1c336e2/North-West-London-Derby-Chelsea-Arsenal-October-21-2023-Premier-League', 'https://fbref.com//en/matches/d95b42eb/Sheffield-United-Manchester-United-October-21-2023-Premier-League', 'https://fbref.com//en/matches/7efcc598/Aston-Villa-West-Ham-United-October-22-2023-Premier-League', 'https://fbref.com//en/matches/8c6293a3/Tottenham-Hotspur-Fulham-October-23-2023-Premier-League', 'https://fbref.com//en/matches/6b0aa474/Crystal-Palace-Tottenham-Hotspur-October-27-2023-Premier-League', 'https://fbref.com//en/matches/91e3b922/Chelsea-Brentford-October-28-2023-Premier-League', 'https://fbref.com//en/matches/c4c42d3e/Bournemouth-Burnley-October-28-2023-Premier-League', 'https://fbref.com//en/matches/d498f918/Arsenal-Sheffield-United-October-28-2023-Premier-League', 'https://fbref.com//en/matches/b84d060a/Wolverhampton-Wanderers-Newcastle-United-October-28-2023-Premier-League', 'https://fbref.com//en/matches/868a89be/West-Ham-United-Everton-October-29-2023-Premier-League', 'https://fbref.com//en/matches/79bf0c7f/Liverpool-Nottingham-Forest-October-29-2023-Premier-League', 'https://fbref.com//en/matches/a0c422e9/Brighton-and-Hove-Albion-Fulham-October-29-2023-Premier-League', 'https://fbref.com//en/matches/ee677172/Aston-Villa-Luton-Town-October-29-2023-Premier-League', 'https://fbref.com//en/matches/f6bfec82/Manchester-Derby-Manchester-United-Manchester-City-October-29-2023-Premier-League', 'https://fbref.com//en/matches/31273be0/Fulham-Manchester-United-November-4-2023-Premier-League', 'https://fbref.com//en/matches/3235dd6e/Brentford-West-Ham-United-November-4-2023-Premier-League', 'https://fbref.com//en/matches/6ecb53ac/Everton-Brighton-and-Hove-Albion-November-4-2023-Premier-League', 'https://fbref.com//en/matches/8797f9a9/Burnley-Crystal-Palace-November-4-2023-Premier-League', 'https://fbref.com//en/matches/e75a870b/Manchester-City-Bournemouth-November-4-2023-Premier-League', 'https://fbref.com//en/matches/e841bbac/Sheffield-United-Wolverhampton-Wanderers-November-4-2023-Premier-League', 'https://fbref.com//en/matches/6096abaa/Newcastle-United-Arsenal-November-4-2023-Premier-League', 'https://fbref.com//en/matches/ac18f108/Nottingham-Forest-Aston-Villa-November-5-2023-Premier-League', 'https://fbref.com//en/matches/a62b97ba/Luton-Town-Liverpool-November-5-2023-Premier-League', 'https://fbref.com//en/matches/478e4eb3/Tottenham-Hotspur-Chelsea-November-6-2023-Premier-League']\n"
     ]
    }
   ],
   "source": [
    "url = 'https://fbref.com/en/comps/9/schedule/Premier-League-Scores-and-Fixtures'\n",
    "\n",
    "print(singleMatchData(url))"
   ]
  }
 ],
 "metadata": {
  "kernelspec": {
   "display_name": "Python 3",
   "language": "python",
   "name": "python3"
  },
  "language_info": {
   "codemirror_mode": {
    "name": "ipython",
    "version": 3
   },
   "file_extension": ".py",
   "mimetype": "text/x-python",
   "name": "python",
   "nbconvert_exporter": "python",
   "pygments_lexer": "ipython3",
   "version": "3.10.9"
  }
 },
 "nbformat": 4,
 "nbformat_minor": 2
}
